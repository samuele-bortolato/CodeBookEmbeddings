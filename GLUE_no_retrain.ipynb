{
 "cells": [
  {
   "cell_type": "code",
   "execution_count": 8,
   "metadata": {},
   "outputs": [],
   "source": [
    "# Import the required libraries\n",
    "import os\n",
    "import torch\n",
    "import numpy as np\n",
    "import transformers\n",
    "from transformers import AutoModelForSequenceClassification, GlueDataTrainingArguments, AutoTokenizer\n",
    "import torchmetrics\n",
    "import datasets\n",
    "from torch.utils.data import DataLoader\n",
    "import matplotlib.pyplot as plt\n",
    "from matplotlib.ticker import MaxNLocator\n",
    "from tqdm import tqdm\n",
    "\n",
    "from apx import ApproxEmbed, ApxSVD, train_apx\n",
    "from glue_score import GLUE_TASKS, make_model, Glue, get_dataloaders, validate, get_metrics"
   ]
  },
  {
   "cell_type": "code",
   "execution_count": 9,
   "metadata": {},
   "outputs": [],
   "source": [
    "transformers.utils.logging.set_verbosity_error()\n",
    "device = \"cuda:0\" if torch.cuda.is_available() else \"cpu\"\n",
    "\n",
    "tokenizer = AutoTokenizer.from_pretrained('prajjwal1/bert-tiny')\n",
    "\n",
    "epochs=5\n",
    "batch_size=32\n",
    "\n",
    "lr=5e-5\n",
    "levels=8\n",
    "channels=8\n",
    "bits=8\n",
    "neurons=64\n",
    "nn_levels=2\n",
    "apx_epochs=5000\n",
    "apx_batch_size=2**14\n",
    "checkpoint_every=100\n",
    "\n",
    "save_path = 'results/compression_finetuned/'\n",
    "\n",
    "norms = [1,1.25,1.5,1.75,2]"
   ]
  },
  {
   "cell_type": "code",
   "execution_count": 10,
   "metadata": {},
   "outputs": [
    {
     "data": {
      "text/plain": [
       "'mrpc'"
      ]
     },
     "execution_count": 10,
     "metadata": {},
     "output_type": "execute_result"
    }
   ],
   "source": [
    "task=list(GLUE_TASKS.keys())[2]\n",
    "args=GLUE_TASKS[task]\n",
    "task"
   ]
  },
  {
   "cell_type": "code",
   "execution_count": 11,
   "metadata": {},
   "outputs": [
    {
     "name": "stderr",
     "output_type": "stream",
     "text": [
      "Found cached dataset glue (C:/Users/Sam/.cache/huggingface/datasets/glue/mrpc/1.0.0/dacbe3125aa31d7f70367a07a8a9e72a5a0bfeb5fc42e75c9db75b96da6053ad)\n",
      "Found cached dataset glue (C:/Users/Sam/.cache/huggingface/datasets/glue/mrpc/1.0.0/dacbe3125aa31d7f70367a07a8a9e72a5a0bfeb5fc42e75c9db75b96da6053ad)\n",
      "Epoch: 1: 100%|██████████| 115/115 [00:03<00:00, 34.44it/s, loss: 0.164]\n",
      "Epoch: 2: 100%|██████████| 115/115 [00:02<00:00, 38.34it/s, loss: 0.156]\n",
      "Epoch: 3: 100%|██████████| 115/115 [00:02<00:00, 38.70it/s, loss: 0.154]\n",
      "Epoch: 4: 100%|██████████| 115/115 [00:03<00:00, 36.77it/s, loss: 0.152]\n",
      "Epoch: 5: 100%|██████████| 115/115 [00:03<00:00, 38.05it/s, loss: 0.15] \n"
     ]
    },
    {
     "name": "stdout",
     "output_type": "stream",
     "text": [
      "Original [tensor(0.4950), tensor(0.5378)]\n"
     ]
    }
   ],
   "source": [
    "model=make_model('prajjwal1/bert-tiny',args)\n",
    "    \n",
    "train_dataloader, val_dataloader = get_dataloaders(args, task, batch_size)\n",
    "metrics = get_metrics(args)\n",
    "\n",
    "Glue(model, tokenizer, task, args, epochs=epochs, steps_validate=0.2, train_dataloader=train_dataloader, val_dataloader=val_dataloader);\n",
    "\n",
    "embeddings = model.bert.embeddings.word_embeddings.weight.to(device)\n",
    "\n",
    "results={}\n",
    "\n",
    "val_metrics = validate(model, tokenizer, val_dataloader, metrics, args)\n",
    "results['Original']=[m.item() for m in val_metrics]\n",
    "print('Original', val_metrics)"
   ]
  },
  {
   "cell_type": "code",
   "execution_count": 12,
   "metadata": {},
   "outputs": [],
   "source": [
    "norm=2"
   ]
  },
  {
   "cell_type": "code",
   "execution_count": 14,
   "metadata": {},
   "outputs": [
    {
     "name": "stdout",
     "output_type": "stream",
     "text": [
      "4999 0.0031031                                                                        0.10002279281616211\n",
      "2 [tensor(0.4061), tensor(0.5000)]\n"
     ]
    }
   ],
   "source": [
    "apx_model = make_model('prajjwal1/bert-tiny',args)\n",
    "apx_model.load_state_dict(model.state_dict())\n",
    "\n",
    "apx = ApproxEmbed(levels = levels, \n",
    "        feature_dim = channels,\n",
    "        num_words = embeddings.shape[0],\n",
    "        output_dims = embeddings.shape[1],\n",
    "        feature_std = 0.1,\n",
    "        feature_bias = 0.0,\n",
    "        codebook_bitwidth=bits,\n",
    "        neurons = neurons,\n",
    "        nn_levels=nn_levels).to('cuda')\n",
    "\n",
    "run = train_apx(apx, embeddings, apx_epochs, apx_batch_size, checkpoint_every, save_path, verbose=True);\n",
    "apx.fix_indices()\n",
    "apx_model.bert.embeddings.word_embeddings = apx\n",
    "\n",
    "val_metrics = validate(apx_model, tokenizer, val_dataloader, metrics, args)\n",
    "results[\"Norm \"+str(norm)]=[m.item() for m in val_metrics]\n",
    "print(norm, val_metrics)"
   ]
  },
  {
   "cell_type": "code",
   "execution_count": 16,
   "metadata": {},
   "outputs": [
    {
     "data": {
      "image/png": "[encoded data removed]",
      "text/plain": [
       "<Figure size 640x480 with 1 Axes>"
      ]
     },
     "metadata": {},
     "output_type": "display_data"
    }
   ],
   "source": [
    "plt.plot(np.arange(len(run['loss']))+1,run['loss'])\n",
    "plt.yscale('log')\n",
    "plt.xscale('log')"
   ]
  },
  {
   "cell_type": "code",
   "execution_count": 19,
   "metadata": {},
   "outputs": [
    {
     "name": "stdout",
     "output_type": "stream",
     "text": [
      "0.0025183973592193343\n"
     ]
    }
   ],
   "source": [
    "order=np.arange(embeddings.shape[0])\n",
    "tot_loss=0\n",
    "tot_n=0\n",
    "np.random.shuffle(order)\n",
    "for batch in range(int(np.ceil(len(order)/batch_size))):\n",
    "\n",
    "    positions = torch.tensor(order[batch*batch_size:(batch+1)*batch_size],dtype=int,device=device)\n",
    "    embed_preds = apx(positions)\n",
    "\n",
    "    embeds = embeddings[positions]\n",
    "    loss=torch.mean(torch.pow(torch.abs(embed_preds-embeds), norm))\n",
    "\n",
    "    tot_loss+=loss.item()*len(order[batch*batch_size:(batch+1)*batch_size])\n",
    "    tot_n+=len(order[batch*batch_size:(batch+1)*batch_size])\n",
    "print(tot_loss/tot_n)"
   ]
  },
  {
   "cell_type": "code",
   "execution_count": 20,
   "metadata": {},
   "outputs": [
    {
     "data": {
      "text/plain": [
       "0.002267783274874091"
      ]
     },
     "execution_count": 20,
     "metadata": {},
     "output_type": "execute_result"
    }
   ],
   "source": [
    "S,V,D = np.linalg.svd(embeddings.detach().cpu(),full_matrices=False)\n",
    "\n",
    "# plot \n",
    "N=list(np.arange(40)+1)\n",
    "\n",
    "loss=np.array([torch.mean(torch.square(torch.tensor((S[:,:n]*V[:n])@D[:n],device=embeddings.device)-embeddings)).item() for n in N])\n",
    "loss[5]"
   ]
  },
  {
   "cell_type": "code",
   "execution_count": null,
   "metadata": {},
   "outputs": [],
   "source": [
    "\n",
    "\n",
    "# clone the model to not modify the original\n",
    "apx_model = make_model('prajjwal1/bert-tiny',args)\n",
    "apx_model.load_state_dict(model.state_dict())\n",
    "\n",
    "apxSVD = ApxSVD(apx_model.bert.embeddings.word_embeddings.weight, 5)\n",
    "apx_model.bert.embeddings.word_embeddings = apxSVD.to('cuda')\n",
    "\n",
    "val_metrics = validate(apx_model, tokenizer, val_dataloader, metrics, args)\n",
    "results['SVD']=[m.item() for m in val_metrics]\n",
    "print('SVD', val_metrics)"
   ]
  },
  {
   "cell_type": "code",
   "execution_count": 4,
   "metadata": {},
   "outputs": [
    {
     "name": "stdout",
     "output_type": "stream",
     "text": [
      "cola\n"
     ]
    },
    {
     "ename": "KeyboardInterrupt",
     "evalue": "",
     "output_type": "error",
     "traceback": [
      "\u001b[1;31m---------------------------------------------------------------------------\u001b[0m",
      "\u001b[1;31mKeyboardInterrupt\u001b[0m                         Traceback (most recent call last)",
      "Cell \u001b[1;32mIn[4], line 6\u001b[0m\n\u001b[0;32m      4\u001b[0m \u001b[39mprint\u001b[39m(task)\n\u001b[0;32m      5\u001b[0m args\u001b[39m=\u001b[39mGLUE_TASKS[task]\n\u001b[1;32m----> 6\u001b[0m model\u001b[39m=\u001b[39mmake_model(\u001b[39m'\u001b[39;49m\u001b[39mprajjwal1/bert-tiny\u001b[39;49m\u001b[39m'\u001b[39;49m,args)\n\u001b[0;32m      8\u001b[0m train_dataloader, val_dataloader \u001b[39m=\u001b[39m get_dataloaders(args, task, batch_size)\n\u001b[0;32m      9\u001b[0m metrics \u001b[39m=\u001b[39m get_metrics(args)\n",
      "File \u001b[1;32mc:\\Sam\\Scuola\\02_UniBo\\2_anno\\NLP\\CodeBookEmbeddings\\glue_score.py:28\u001b[0m, in \u001b[0;36mmake_model\u001b[1;34m(model_name, args, device)\u001b[0m\n\u001b[0;32m     26\u001b[0m         model \u001b[39m=\u001b[39m AutoModelForSequenceClassification\u001b[39m.\u001b[39mfrom_pretrained(model_name, num_labels\u001b[39m=\u001b[39margs[\u001b[39m'\u001b[39m\u001b[39mnum_classes\u001b[39m\u001b[39m'\u001b[39m], ignore_mismatched_sizes\u001b[39m=\u001b[39m\u001b[39mTrue\u001b[39;00m)\n\u001b[0;32m     27\u001b[0m     \u001b[39melse\u001b[39;00m:\n\u001b[1;32m---> 28\u001b[0m         model \u001b[39m=\u001b[39m AutoModelForSequenceClassification\u001b[39m.\u001b[39;49mfrom_pretrained(model_name)\n\u001b[0;32m     29\u001b[0m \u001b[39melif\u001b[39;00m args[\u001b[39m'\u001b[39m\u001b[39mtype\u001b[39m\u001b[39m'\u001b[39m]\u001b[39m==\u001b[39m\u001b[39m'\u001b[39m\u001b[39mregression\u001b[39m\u001b[39m'\u001b[39m:\n\u001b[0;32m     30\u001b[0m     model \u001b[39m=\u001b[39m AutoModelForSequenceClassification\u001b[39m.\u001b[39mfrom_pretrained(model_name, num_labels\u001b[39m=\u001b[39m\u001b[39m1\u001b[39m, ignore_mismatched_sizes\u001b[39m=\u001b[39m\u001b[39mTrue\u001b[39;00m)\n",
      "File \u001b[1;32mc:\\Users\\Sam\\miniconda3\\envs\\torch\\lib\\site-packages\\transformers\\models\\auto\\auto_factory.py:463\u001b[0m, in \u001b[0;36m_BaseAutoModelClass.from_pretrained\u001b[1;34m(cls, pretrained_model_name_or_path, *model_args, **kwargs)\u001b[0m\n\u001b[0;32m    461\u001b[0m \u001b[39melif\u001b[39;00m \u001b[39mtype\u001b[39m(config) \u001b[39min\u001b[39;00m \u001b[39mcls\u001b[39m\u001b[39m.\u001b[39m_model_mapping\u001b[39m.\u001b[39mkeys():\n\u001b[0;32m    462\u001b[0m     model_class \u001b[39m=\u001b[39m _get_model_class(config, \u001b[39mcls\u001b[39m\u001b[39m.\u001b[39m_model_mapping)\n\u001b[1;32m--> 463\u001b[0m     \u001b[39mreturn\u001b[39;00m model_class\u001b[39m.\u001b[39;49mfrom_pretrained(\n\u001b[0;32m    464\u001b[0m         pretrained_model_name_or_path, \u001b[39m*\u001b[39;49mmodel_args, config\u001b[39m=\u001b[39;49mconfig, \u001b[39m*\u001b[39;49m\u001b[39m*\u001b[39;49mhub_kwargs, \u001b[39m*\u001b[39;49m\u001b[39m*\u001b[39;49mkwargs\n\u001b[0;32m    465\u001b[0m     )\n\u001b[0;32m    466\u001b[0m \u001b[39mraise\u001b[39;00m \u001b[39mValueError\u001b[39;00m(\n\u001b[0;32m    467\u001b[0m     \u001b[39mf\u001b[39m\u001b[39m\"\u001b[39m\u001b[39mUnrecognized configuration class \u001b[39m\u001b[39m{\u001b[39;00mconfig\u001b[39m.\u001b[39m\u001b[39m__class__\u001b[39m\u001b[39m}\u001b[39;00m\u001b[39m for this kind of AutoModel: \u001b[39m\u001b[39m{\u001b[39;00m\u001b[39mcls\u001b[39m\u001b[39m.\u001b[39m\u001b[39m__name__\u001b[39m\u001b[39m}\u001b[39;00m\u001b[39m.\u001b[39m\u001b[39m\\n\u001b[39;00m\u001b[39m\"\u001b[39m\n\u001b[0;32m    468\u001b[0m     \u001b[39mf\u001b[39m\u001b[39m\"\u001b[39m\u001b[39mModel type should be one of \u001b[39m\u001b[39m{\u001b[39;00m\u001b[39m'\u001b[39m\u001b[39m, \u001b[39m\u001b[39m'\u001b[39m\u001b[39m.\u001b[39mjoin(c\u001b[39m.\u001b[39m\u001b[39m__name__\u001b[39m\u001b[39m \u001b[39m\u001b[39mfor\u001b[39;00m\u001b[39m \u001b[39mc\u001b[39m \u001b[39m\u001b[39min\u001b[39;00m\u001b[39m \u001b[39m\u001b[39mcls\u001b[39m\u001b[39m.\u001b[39m_model_mapping\u001b[39m.\u001b[39mkeys())\u001b[39m}\u001b[39;00m\u001b[39m.\u001b[39m\u001b[39m\"\u001b[39m\n\u001b[0;32m    469\u001b[0m )\n",
      "File \u001b[1;32mc:\\Users\\Sam\\miniconda3\\envs\\torch\\lib\\site-packages\\transformers\\modeling_utils.py:2276\u001b[0m, in \u001b[0;36mPreTrainedModel.from_pretrained\u001b[1;34m(cls, pretrained_model_name_or_path, *model_args, **kwargs)\u001b[0m\n\u001b[0;32m   2273\u001b[0m     init_contexts\u001b[39m.\u001b[39mappend(init_empty_weights())\n\u001b[0;32m   2275\u001b[0m \u001b[39mwith\u001b[39;00m ContextManagers(init_contexts):\n\u001b[1;32m-> 2276\u001b[0m     model \u001b[39m=\u001b[39m \u001b[39mcls\u001b[39;49m(config, \u001b[39m*\u001b[39;49mmodel_args, \u001b[39m*\u001b[39;49m\u001b[39m*\u001b[39;49mmodel_kwargs)\n\u001b[0;32m   2278\u001b[0m \u001b[39mif\u001b[39;00m load_in_8bit:\n\u001b[0;32m   2279\u001b[0m     \u001b[39mfrom\u001b[39;00m \u001b[39m.\u001b[39;00m\u001b[39mutils\u001b[39;00m\u001b[39m.\u001b[39;00m\u001b[39mbitsandbytes\u001b[39;00m \u001b[39mimport\u001b[39;00m get_keys_to_not_convert, replace_8bit_linear\n",
      "File \u001b[1;32mc:\\Users\\Sam\\miniconda3\\envs\\torch\\lib\\site-packages\\transformers\\models\\bert\\modeling_bert.py:1526\u001b[0m, in \u001b[0;36mBertForSequenceClassification.__init__\u001b[1;34m(self, config)\u001b[0m\n\u001b[0;32m   1523\u001b[0m \u001b[39mself\u001b[39m\u001b[39m.\u001b[39mnum_labels \u001b[39m=\u001b[39m config\u001b[39m.\u001b[39mnum_labels\n\u001b[0;32m   1524\u001b[0m \u001b[39mself\u001b[39m\u001b[39m.\u001b[39mconfig \u001b[39m=\u001b[39m config\n\u001b[1;32m-> 1526\u001b[0m \u001b[39mself\u001b[39m\u001b[39m.\u001b[39mbert \u001b[39m=\u001b[39m BertModel(config)\n\u001b[0;32m   1527\u001b[0m classifier_dropout \u001b[39m=\u001b[39m (\n\u001b[0;32m   1528\u001b[0m     config\u001b[39m.\u001b[39mclassifier_dropout \u001b[39mif\u001b[39;00m config\u001b[39m.\u001b[39mclassifier_dropout \u001b[39mis\u001b[39;00m \u001b[39mnot\u001b[39;00m \u001b[39mNone\u001b[39;00m \u001b[39melse\u001b[39;00m config\u001b[39m.\u001b[39mhidden_dropout_prob\n\u001b[0;32m   1529\u001b[0m )\n\u001b[0;32m   1530\u001b[0m \u001b[39mself\u001b[39m\u001b[39m.\u001b[39mdropout \u001b[39m=\u001b[39m nn\u001b[39m.\u001b[39mDropout(classifier_dropout)\n",
      "File \u001b[1;32mc:\\Users\\Sam\\miniconda3\\envs\\torch\\lib\\site-packages\\transformers\\models\\bert\\modeling_bert.py:891\u001b[0m, in \u001b[0;36mBertModel.__init__\u001b[1;34m(self, config, add_pooling_layer)\u001b[0m\n\u001b[0;32m    888\u001b[0m \u001b[39mself\u001b[39m\u001b[39m.\u001b[39mconfig \u001b[39m=\u001b[39m config\n\u001b[0;32m    890\u001b[0m \u001b[39mself\u001b[39m\u001b[39m.\u001b[39membeddings \u001b[39m=\u001b[39m BertEmbeddings(config)\n\u001b[1;32m--> 891\u001b[0m \u001b[39mself\u001b[39m\u001b[39m.\u001b[39mencoder \u001b[39m=\u001b[39m BertEncoder(config)\n\u001b[0;32m    893\u001b[0m \u001b[39mself\u001b[39m\u001b[39m.\u001b[39mpooler \u001b[39m=\u001b[39m BertPooler(config) \u001b[39mif\u001b[39;00m add_pooling_layer \u001b[39melse\u001b[39;00m \u001b[39mNone\u001b[39;00m\n\u001b[0;32m    895\u001b[0m \u001b[39m# Initialize weights and apply final processing\u001b[39;00m\n",
      "File \u001b[1;32mc:\\Users\\Sam\\miniconda3\\envs\\torch\\lib\\site-packages\\transformers\\models\\bert\\modeling_bert.py:559\u001b[0m, in \u001b[0;36mBertEncoder.__init__\u001b[1;34m(self, config)\u001b[0m\n\u001b[0;32m    557\u001b[0m \u001b[39msuper\u001b[39m()\u001b[39m.\u001b[39m\u001b[39m__init__\u001b[39m()\n\u001b[0;32m    558\u001b[0m \u001b[39mself\u001b[39m\u001b[39m.\u001b[39mconfig \u001b[39m=\u001b[39m config\n\u001b[1;32m--> 559\u001b[0m \u001b[39mself\u001b[39m\u001b[39m.\u001b[39mlayer \u001b[39m=\u001b[39m nn\u001b[39m.\u001b[39mModuleList([BertLayer(config) \u001b[39mfor\u001b[39;00m _ \u001b[39min\u001b[39;00m \u001b[39mrange\u001b[39m(config\u001b[39m.\u001b[39mnum_hidden_layers)])\n\u001b[0;32m    560\u001b[0m \u001b[39mself\u001b[39m\u001b[39m.\u001b[39mgradient_checkpointing \u001b[39m=\u001b[39m \u001b[39mFalse\u001b[39;00m\n",
      "File \u001b[1;32mc:\\Users\\Sam\\miniconda3\\envs\\torch\\lib\\site-packages\\transformers\\models\\bert\\modeling_bert.py:559\u001b[0m, in \u001b[0;36m<listcomp>\u001b[1;34m(.0)\u001b[0m\n\u001b[0;32m    557\u001b[0m \u001b[39msuper\u001b[39m()\u001b[39m.\u001b[39m\u001b[39m__init__\u001b[39m()\n\u001b[0;32m    558\u001b[0m \u001b[39mself\u001b[39m\u001b[39m.\u001b[39mconfig \u001b[39m=\u001b[39m config\n\u001b[1;32m--> 559\u001b[0m \u001b[39mself\u001b[39m\u001b[39m.\u001b[39mlayer \u001b[39m=\u001b[39m nn\u001b[39m.\u001b[39mModuleList([BertLayer(config) \u001b[39mfor\u001b[39;00m _ \u001b[39min\u001b[39;00m \u001b[39mrange\u001b[39m(config\u001b[39m.\u001b[39mnum_hidden_layers)])\n\u001b[0;32m    560\u001b[0m \u001b[39mself\u001b[39m\u001b[39m.\u001b[39mgradient_checkpointing \u001b[39m=\u001b[39m \u001b[39mFalse\u001b[39;00m\n",
      "File \u001b[1;32mc:\\Users\\Sam\\miniconda3\\envs\\torch\\lib\\site-packages\\transformers\\models\\bert\\modeling_bert.py:474\u001b[0m, in \u001b[0;36mBertLayer.__init__\u001b[1;34m(self, config)\u001b[0m\n\u001b[0;32m    472\u001b[0m \u001b[39mself\u001b[39m\u001b[39m.\u001b[39mchunk_size_feed_forward \u001b[39m=\u001b[39m config\u001b[39m.\u001b[39mchunk_size_feed_forward\n\u001b[0;32m    473\u001b[0m \u001b[39mself\u001b[39m\u001b[39m.\u001b[39mseq_len_dim \u001b[39m=\u001b[39m \u001b[39m1\u001b[39m\n\u001b[1;32m--> 474\u001b[0m \u001b[39mself\u001b[39m\u001b[39m.\u001b[39mattention \u001b[39m=\u001b[39m BertAttention(config)\n\u001b[0;32m    475\u001b[0m \u001b[39mself\u001b[39m\u001b[39m.\u001b[39mis_decoder \u001b[39m=\u001b[39m config\u001b[39m.\u001b[39mis_decoder\n\u001b[0;32m    476\u001b[0m \u001b[39mself\u001b[39m\u001b[39m.\u001b[39madd_cross_attention \u001b[39m=\u001b[39m config\u001b[39m.\u001b[39madd_cross_attention\n",
      "File \u001b[1;32mc:\\Users\\Sam\\miniconda3\\envs\\torch\\lib\\site-packages\\transformers\\models\\bert\\modeling_bert.py:394\u001b[0m, in \u001b[0;36mBertAttention.__init__\u001b[1;34m(self, config, position_embedding_type)\u001b[0m\n\u001b[0;32m    392\u001b[0m \u001b[39mdef\u001b[39;00m \u001b[39m__init__\u001b[39m(\u001b[39mself\u001b[39m, config, position_embedding_type\u001b[39m=\u001b[39m\u001b[39mNone\u001b[39;00m):\n\u001b[0;32m    393\u001b[0m     \u001b[39msuper\u001b[39m()\u001b[39m.\u001b[39m\u001b[39m__init__\u001b[39m()\n\u001b[1;32m--> 394\u001b[0m     \u001b[39mself\u001b[39m\u001b[39m.\u001b[39mself \u001b[39m=\u001b[39m BertSelfAttention(config, position_embedding_type\u001b[39m=\u001b[39;49mposition_embedding_type)\n\u001b[0;32m    395\u001b[0m     \u001b[39mself\u001b[39m\u001b[39m.\u001b[39moutput \u001b[39m=\u001b[39m BertSelfOutput(config)\n\u001b[0;32m    396\u001b[0m     \u001b[39mself\u001b[39m\u001b[39m.\u001b[39mpruned_heads \u001b[39m=\u001b[39m \u001b[39mset\u001b[39m()\n",
      "File \u001b[1;32mc:\\Users\\Sam\\miniconda3\\envs\\torch\\lib\\site-packages\\transformers\\models\\bert\\modeling_bert.py:256\u001b[0m, in \u001b[0;36mBertSelfAttention.__init__\u001b[1;34m(self, config, position_embedding_type)\u001b[0m\n\u001b[0;32m    253\u001b[0m \u001b[39mself\u001b[39m\u001b[39m.\u001b[39mattention_head_size \u001b[39m=\u001b[39m \u001b[39mint\u001b[39m(config\u001b[39m.\u001b[39mhidden_size \u001b[39m/\u001b[39m config\u001b[39m.\u001b[39mnum_attention_heads)\n\u001b[0;32m    254\u001b[0m \u001b[39mself\u001b[39m\u001b[39m.\u001b[39mall_head_size \u001b[39m=\u001b[39m \u001b[39mself\u001b[39m\u001b[39m.\u001b[39mnum_attention_heads \u001b[39m*\u001b[39m \u001b[39mself\u001b[39m\u001b[39m.\u001b[39mattention_head_size\n\u001b[1;32m--> 256\u001b[0m \u001b[39mself\u001b[39m\u001b[39m.\u001b[39mquery \u001b[39m=\u001b[39m nn\u001b[39m.\u001b[39;49mLinear(config\u001b[39m.\u001b[39;49mhidden_size, \u001b[39mself\u001b[39;49m\u001b[39m.\u001b[39;49mall_head_size)\n\u001b[0;32m    257\u001b[0m \u001b[39mself\u001b[39m\u001b[39m.\u001b[39mkey \u001b[39m=\u001b[39m nn\u001b[39m.\u001b[39mLinear(config\u001b[39m.\u001b[39mhidden_size, \u001b[39mself\u001b[39m\u001b[39m.\u001b[39mall_head_size)\n\u001b[0;32m    258\u001b[0m \u001b[39mself\u001b[39m\u001b[39m.\u001b[39mvalue \u001b[39m=\u001b[39m nn\u001b[39m.\u001b[39mLinear(config\u001b[39m.\u001b[39mhidden_size, \u001b[39mself\u001b[39m\u001b[39m.\u001b[39mall_head_size)\n",
      "File \u001b[1;32mc:\\Users\\Sam\\miniconda3\\envs\\torch\\lib\\site-packages\\torch\\nn\\modules\\linear.py:101\u001b[0m, in \u001b[0;36mLinear.__init__\u001b[1;34m(self, in_features, out_features, bias, device, dtype)\u001b[0m\n\u001b[0;32m     99\u001b[0m \u001b[39melse\u001b[39;00m:\n\u001b[0;32m    100\u001b[0m     \u001b[39mself\u001b[39m\u001b[39m.\u001b[39mregister_parameter(\u001b[39m'\u001b[39m\u001b[39mbias\u001b[39m\u001b[39m'\u001b[39m, \u001b[39mNone\u001b[39;00m)\n\u001b[1;32m--> 101\u001b[0m \u001b[39mself\u001b[39;49m\u001b[39m.\u001b[39;49mreset_parameters()\n",
      "File \u001b[1;32mc:\\Users\\Sam\\miniconda3\\envs\\torch\\lib\\site-packages\\torch\\nn\\modules\\linear.py:107\u001b[0m, in \u001b[0;36mLinear.reset_parameters\u001b[1;34m(self)\u001b[0m\n\u001b[0;32m    103\u001b[0m \u001b[39mdef\u001b[39;00m \u001b[39mreset_parameters\u001b[39m(\u001b[39mself\u001b[39m) \u001b[39m-\u001b[39m\u001b[39m>\u001b[39m \u001b[39mNone\u001b[39;00m:\n\u001b[0;32m    104\u001b[0m     \u001b[39m# Setting a=sqrt(5) in kaiming_uniform is the same as initializing with\u001b[39;00m\n\u001b[0;32m    105\u001b[0m     \u001b[39m# uniform(-1/sqrt(in_features), 1/sqrt(in_features)). For details, see\u001b[39;00m\n\u001b[0;32m    106\u001b[0m     \u001b[39m# https://github.com/pytorch/pytorch/issues/57109\u001b[39;00m\n\u001b[1;32m--> 107\u001b[0m     init\u001b[39m.\u001b[39;49mkaiming_uniform_(\u001b[39mself\u001b[39;49m\u001b[39m.\u001b[39;49mweight, a\u001b[39m=\u001b[39;49mmath\u001b[39m.\u001b[39;49msqrt(\u001b[39m5\u001b[39;49m))\n\u001b[0;32m    108\u001b[0m     \u001b[39mif\u001b[39;00m \u001b[39mself\u001b[39m\u001b[39m.\u001b[39mbias \u001b[39mis\u001b[39;00m \u001b[39mnot\u001b[39;00m \u001b[39mNone\u001b[39;00m:\n\u001b[0;32m    109\u001b[0m         fan_in, _ \u001b[39m=\u001b[39m init\u001b[39m.\u001b[39m_calculate_fan_in_and_fan_out(\u001b[39mself\u001b[39m\u001b[39m.\u001b[39mweight)\n",
      "File \u001b[1;32mc:\\Users\\Sam\\miniconda3\\envs\\torch\\lib\\site-packages\\torch\\nn\\init.py:412\u001b[0m, in \u001b[0;36mkaiming_uniform_\u001b[1;34m(tensor, a, mode, nonlinearity)\u001b[0m\n\u001b[0;32m    410\u001b[0m bound \u001b[39m=\u001b[39m math\u001b[39m.\u001b[39msqrt(\u001b[39m3.0\u001b[39m) \u001b[39m*\u001b[39m std  \u001b[39m# Calculate uniform bounds from standard deviation\u001b[39;00m\n\u001b[0;32m    411\u001b[0m \u001b[39mwith\u001b[39;00m torch\u001b[39m.\u001b[39mno_grad():\n\u001b[1;32m--> 412\u001b[0m     \u001b[39mreturn\u001b[39;00m tensor\u001b[39m.\u001b[39;49muniform_(\u001b[39m-\u001b[39;49mbound, bound)\n",
      "\u001b[1;31mKeyboardInterrupt\u001b[0m: "
     ]
    }
   ],
   "source": [
    "RESULTS={}\n",
    "for task in list(GLUE_TASKS.keys()):\n",
    "    \n",
    "    print(task)\n",
    "    args=GLUE_TASKS[task]\n",
    "    model=make_model('prajjwal1/bert-tiny',args)\n",
    "    \n",
    "    train_dataloader, val_dataloader = get_dataloaders(args, task, batch_size)\n",
    "    metrics = get_metrics(args)\n",
    "\n",
    "    Glue(model, tokenizer, task, args, epochs=epochs, steps_validate=0.2, train_dataloader=train_dataloader, val_dataloader=val_dataloader);\n",
    "\n",
    "    embeddings = model.bert.embeddings.word_embeddings.weight.to(device)\n",
    "\n",
    "    results={}\n",
    "\n",
    "    val_metrics = validate(model, tokenizer, val_dataloader, metrics, args)\n",
    "    results['Original']=[m.item() for m in val_metrics]\n",
    "    print('Original', val_metrics)\n",
    "\n",
    "    for norm in norms:\n",
    "\n",
    "        # clone the model to not modify the original\n",
    "        apx_model = make_model('prajjwal1/bert-tiny',args)\n",
    "        apx_model.load_state_dict(model.state_dict())\n",
    "\n",
    "        apx = ApproxEmbed(levels = levels, \n",
    "                feature_dim = channels,\n",
    "                num_words = embeddings.shape[0],\n",
    "                output_dims = embeddings.shape[1],\n",
    "                feature_std = 0.1,\n",
    "                feature_bias = 0.0,\n",
    "                codebook_bitwidth=bits,\n",
    "                neurons = neurons,\n",
    "                nn_levels=nn_levels).to('cuda')\n",
    "\n",
    "        train_apx(apx, embeddings, apx_epochs, apx_batch_size, checkpoint_every, save_path);\n",
    "        apx.fix_indices()\n",
    "        apx_model.bert.embeddings.word_embeddings = apx\n",
    "\n",
    "        val_metrics = validate(apx_model, tokenizer, val_dataloader, metrics, args)\n",
    "        results[\"Norm \"+str(norm)]=[m.item() for m in val_metrics]\n",
    "        print(norm, val_metrics)\n",
    "\n",
    "    # clone the model to not modify the original\n",
    "    apx_model = make_model('prajjwal1/bert-tiny',args)\n",
    "    apx_model.load_state_dict(model.state_dict())\n",
    "\n",
    "    apxSVD = ApxSVD(apx_model.bert.embeddings.word_embeddings.weight, 5)\n",
    "    apx_model.bert.embeddings.word_embeddings = apxSVD.to('cuda')\n",
    "\n",
    "    val_metrics = validate(apx_model, tokenizer, val_dataloader, metrics, args)\n",
    "    results['SVD']=[m.item() for m in val_metrics]\n",
    "    print('SVD', val_metrics)\n",
    "\n",
    "    RESULTS[task]=results"
   ]
  },
  {
   "cell_type": "code",
   "execution_count": null,
   "metadata": {},
   "outputs": [
    {
     "data": {
      "text/plain": [
       "{'cola': {'Original': [0], 'Norm1.25': [0], 'SVD': [0]}}"
      ]
     },
     "execution_count": 30,
     "metadata": {},
     "output_type": "execute_result"
    }
   ],
   "source": [
    "RESULTS"
   ]
  },
  {
   "cell_type": "code",
   "execution_count": null,
   "metadata": {},
   "outputs": [],
   "source": [
    "save_path='results/'\n",
    "import os\n",
    "if not os.path.exists(save_path):\n",
    "    os.makedirs(save_path)\n",
    "\n",
    "torch.save(RESULTS, save_path+'glue_results_no_retrain.pth')"
   ]
  },
  {
   "cell_type": "code",
   "execution_count": null,
   "metadata": {},
   "outputs": [
    {
     "data": {
      "text/html": [
       "<div>\n",
       "<style scoped>\n",
       "    .dataframe tbody tr th:only-of-type {\n",
       "        vertical-align: middle;\n",
       "    }\n",
       "\n",
       "    .dataframe tbody tr th {\n",
       "        vertical-align: top;\n",
       "    }\n",
       "\n",
       "    .dataframe thead th {\n",
       "        text-align: right;\n",
       "    }\n",
       "</style>\n",
       "<table border=\"1\" class=\"dataframe\">\n",
       "  <thead>\n",
       "    <tr style=\"text-align: right;\">\n",
       "      <th></th>\n",
       "      <th>cola</th>\n",
       "    </tr>\n",
       "  </thead>\n",
       "  <tbody>\n",
       "    <tr>\n",
       "      <th>Norm1.25</th>\n",
       "      <td>0.0</td>\n",
       "    </tr>\n",
       "    <tr>\n",
       "      <th>Original</th>\n",
       "      <td>0.0</td>\n",
       "    </tr>\n",
       "    <tr>\n",
       "      <th>SVD</th>\n",
       "      <td>0.0</td>\n",
       "    </tr>\n",
       "  </tbody>\n",
       "</table>\n",
       "</div>"
      ],
      "text/plain": [
       "         cola\n",
       "Norm1.25  0.0\n",
       "Original  0.0\n",
       "SVD       0.0"
      ]
     },
     "execution_count": 32,
     "metadata": {},
     "output_type": "execute_result"
    }
   ],
   "source": [
    "import torch\n",
    "import pandas as pd\n",
    "\n",
    "run_dict=torch.load('results/glue_results_no_retrain.pth')\n",
    "\n",
    "for k_runs, runs in run_dict.items():\n",
    "    for k_run, run in runs.items():\n",
    "        run_dict[k_runs][k_run]=f\"{run[0]*100:,.1f}\" if len(run)==1 else f\"{run[0]*100:,.1f}/{run[1]*100:,.1f}\"\n",
    "df=pd.DataFrame(run_dict)\n",
    "df"
   ]
  }
 ],
 "metadata": {
  "kernelspec": {
   "display_name": "torch",
   "language": "python",
   "name": "python3"
  },
  "language_info": {
   "codemirror_mode": {
    "name": "ipython",
    "version": 3
   },
   "file_extension": ".py",
   "mimetype": "text/x-python",
   "name": "python",
   "nbconvert_exporter": "python",
   "pygments_lexer": "ipython3",
   "version": "3.9.16"
  },
  "orig_nbformat": 4,
  "vscode": {
   "interpreter": {
    "hash": "506daaeaa79bc5d30715519e2bba71fd2fb898b1f12d903345e89400e3b4f753"
   }
  }
 },
 "nbformat": 4,
 "nbformat_minor": 2
}
