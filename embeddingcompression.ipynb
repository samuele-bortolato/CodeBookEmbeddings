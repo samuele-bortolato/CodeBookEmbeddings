{
 "cells": [
  {
   "cell_type": "code",
   "execution_count": 7,
   "id": "83b7fc7d",
   "metadata": {
    "execution": {
     "iopub.execute_input": "2023-01-25T11:00:50.463468Z",
     "iopub.status.busy": "2023-01-25T11:00:50.462621Z",
     "iopub.status.idle": "2023-01-25T11:00:52.742798Z",
     "shell.execute_reply": "2023-01-25T11:00:52.741883Z"
    },
    "papermill": {
     "duration": 2.289938,
     "end_time": "2023-01-25T11:00:52.745402",
     "exception": false,
     "start_time": "2023-01-25T11:00:50.455464",
     "status": "completed"
    },
    "tags": []
   },
   "outputs": [],
   "source": [
    "import torch\n",
    "import torch.nn as nn\n",
    "from transformers import AutoModel\n",
    "import numpy as np\n",
    "import matplotlib.pyplot as plt\n",
    "import time\n",
    "\n",
    "from apx import ApproxEmbed, train_apx, load_runs, plot_compare_result_runs"
   ]
  },
  {
   "cell_type": "code",
   "execution_count": 2,
   "id": "69d20ad7",
   "metadata": {
    "execution": {
     "iopub.execute_input": "2023-01-25T11:00:52.753990Z",
     "iopub.status.busy": "2023-01-25T11:00:52.752429Z",
     "iopub.status.idle": "2023-01-25T11:00:52.761813Z",
     "shell.execute_reply": "2023-01-25T11:00:52.760897Z"
    },
    "papermill": {
     "duration": 0.015216,
     "end_time": "2023-01-25T11:00:52.763803",
     "exception": false,
     "start_time": "2023-01-25T11:00:52.748587",
     "status": "completed"
    },
    "tags": []
   },
   "outputs": [
    {
     "data": {
      "text/plain": [
       "'2.0.0.dev20230123+cu117'"
      ]
     },
     "execution_count": 2,
     "metadata": {},
     "output_type": "execute_result"
    }
   ],
   "source": [
    "torch.__version__"
   ]
  },
  {
   "cell_type": "code",
   "execution_count": 3,
   "id": "39c3e316",
   "metadata": {
    "execution": {
     "iopub.execute_input": "2023-01-25T11:00:52.770650Z",
     "iopub.status.busy": "2023-01-25T11:00:52.770394Z",
     "iopub.status.idle": "2023-01-25T11:00:55.119894Z",
     "shell.execute_reply": "2023-01-25T11:00:55.117549Z"
    },
    "papermill": {
     "duration": 2.354986,
     "end_time": "2023-01-25T11:00:55.121648",
     "exception": true,
     "start_time": "2023-01-25T11:00:52.766662",
     "status": "failed"
    },
    "tags": []
   },
   "outputs": [
    {
     "name": "stderr",
     "output_type": "stream",
     "text": [
      "Some weights of the model checkpoint at prajjwal1/bert-tiny were not used when initializing BertModel: ['cls.seq_relationship.weight', 'cls.predictions.bias', 'cls.predictions.transform.LayerNorm.weight', 'cls.predictions.decoder.weight', 'cls.predictions.transform.dense.weight', 'cls.predictions.transform.LayerNorm.bias', 'cls.predictions.transform.dense.bias', 'cls.seq_relationship.bias', 'cls.predictions.decoder.bias']\n",
      "- This IS expected if you are initializing BertModel from the checkpoint of a model trained on another task or with another architecture (e.g. initializing a BertForSequenceClassification model from a BertForPreTraining model).\n",
      "- This IS NOT expected if you are initializing BertModel from the checkpoint of a model that you expect to be exactly identical (initializing a BertForSequenceClassification model from a BertForSequenceClassification model).\n"
     ]
    },
    {
     "data": {
      "text/plain": [
       "torch.Size([30522, 128])"
      ]
     },
     "execution_count": 3,
     "metadata": {},
     "output_type": "execute_result"
    }
   ],
   "source": [
    "model = AutoModel.from_pretrained('prajjwal1/bert-tiny')\n",
    "embeddings=model.embeddings.word_embeddings.weight\n",
    "embeddings.shape"
   ]
  },
  {
   "cell_type": "code",
   "execution_count": 4,
   "id": "ea6fb361",
   "metadata": {
    "execution": {
     "iopub.execute_input": "2023-01-24T22:16:44.002081Z",
     "iopub.status.busy": "2023-01-24T22:16:44.001669Z",
     "iopub.status.idle": "2023-01-24T22:16:44.009855Z",
     "shell.execute_reply": "2023-01-24T22:16:44.007627Z",
     "shell.execute_reply.started": "2023-01-24T22:16:44.002044Z"
    },
    "papermill": {
     "duration": null,
     "end_time": null,
     "exception": null,
     "start_time": null,
     "status": "pending"
    },
    "tags": []
   },
   "outputs": [],
   "source": [
    "LEVELS=[4,8]\n",
    "CHANNELS=[2,4,8]\n",
    "bits=8\n",
    "device='cuda'\n",
    "epochs=100\n",
    "batch_size=2**14\n",
    "neurons=64\n",
    "nn_levels=2\n",
    "n_embeddings=embeddings.shape[0]\n",
    "embeddings_size=embeddings.shape[1]\n",
    "checkpoint_every=100\n",
    "\n",
    "save_path='results/compression/'\n",
    "\n",
    "import os\n",
    "if not os.path.exists(save_path):\n",
    "    os.makedirs(save_path)"
   ]
  },
  {
   "cell_type": "code",
   "execution_count": 11,
   "id": "fa77f89b",
   "metadata": {
    "execution": {
     "iopub.execute_input": "2023-01-24T22:16:45.534079Z",
     "iopub.status.busy": "2023-01-24T22:16:45.533573Z",
     "iopub.status.idle": "2023-01-24T22:17:14.209260Z",
     "shell.execute_reply": "2023-01-24T22:17:14.207972Z",
     "shell.execute_reply.started": "2023-01-24T22:16:45.534049Z"
    },
    "papermill": {
     "duration": null,
     "end_time": null,
     "exception": null,
     "start_time": null,
     "status": "pending"
    },
    "tags": []
   },
   "outputs": [
    {
     "name": "stdout",
     "output_type": "stream",
     "text": [
      "4 2\n",
      "4 4\n"
     ]
    },
    {
     "ename": "KeyboardInterrupt",
     "evalue": "",
     "output_type": "error",
     "traceback": [
      "\u001b[1;31m---------------------------------------------------------------------------\u001b[0m",
      "\u001b[1;31mKeyboardInterrupt\u001b[0m                         Traceback (most recent call last)",
      "Cell \u001b[1;32mIn[11], line 20\u001b[0m\n\u001b[0;32m      9\u001b[0m apx\u001b[39m=\u001b[39mApproxEmbed(levels \u001b[39m=\u001b[39m levels, \n\u001b[0;32m     10\u001b[0m         feature_dim \u001b[39m=\u001b[39m channels,\n\u001b[0;32m     11\u001b[0m         num_words \u001b[39m=\u001b[39m n_embeddings,\n\u001b[1;32m   (...)\u001b[0m\n\u001b[0;32m     16\u001b[0m         neurons \u001b[39m=\u001b[39m neurons,\n\u001b[0;32m     17\u001b[0m         nn_levels\u001b[39m=\u001b[39mnn_levels)\n\u001b[0;32m     18\u001b[0m apx\u001b[39m.\u001b[39mto(device)\n\u001b[1;32m---> 20\u001b[0m run \u001b[39m=\u001b[39m train_apx(apx, embeddings, epochs, batch_size, checkpoint_every, save_path)\n",
      "File \u001b[1;32mc:\\Sam\\Scuola\\02_UniBo\\2_anno\\NLP\\ProjectWork\\apx.py:166\u001b[0m, in \u001b[0;36mtrain_apx\u001b[1;34m(apx, embeddings, epochs, batch_size, checkpoint_every, save_path, optimizer, verbose, device)\u001b[0m\n\u001b[0;32m    163\u001b[0m embeds \u001b[39m=\u001b[39m embeddings[positions]\n\u001b[0;32m    164\u001b[0m loss\u001b[39m=\u001b[39mtorch\u001b[39m.\u001b[39mmean(torch\u001b[39m.\u001b[39msquare(embed_preds\u001b[39m-\u001b[39membeds))\n\u001b[1;32m--> 166\u001b[0m loss\u001b[39m.\u001b[39;49mbackward()\n\u001b[0;32m    167\u001b[0m optimizer\u001b[39m.\u001b[39mstep()\n\u001b[0;32m    168\u001b[0m optimizer\u001b[39m.\u001b[39mzero_grad()\n",
      "File \u001b[1;32mc:\\Users\\Sam\\miniconda3\\envs\\torch\\lib\\site-packages\\torch\\_tensor.py:488\u001b[0m, in \u001b[0;36mTensor.backward\u001b[1;34m(self, gradient, retain_graph, create_graph, inputs)\u001b[0m\n\u001b[0;32m    478\u001b[0m \u001b[39mif\u001b[39;00m has_torch_function_unary(\u001b[39mself\u001b[39m):\n\u001b[0;32m    479\u001b[0m     \u001b[39mreturn\u001b[39;00m handle_torch_function(\n\u001b[0;32m    480\u001b[0m         Tensor\u001b[39m.\u001b[39mbackward,\n\u001b[0;32m    481\u001b[0m         (\u001b[39mself\u001b[39m,),\n\u001b[1;32m   (...)\u001b[0m\n\u001b[0;32m    486\u001b[0m         inputs\u001b[39m=\u001b[39minputs,\n\u001b[0;32m    487\u001b[0m     )\n\u001b[1;32m--> 488\u001b[0m torch\u001b[39m.\u001b[39;49mautograd\u001b[39m.\u001b[39;49mbackward(\n\u001b[0;32m    489\u001b[0m     \u001b[39mself\u001b[39;49m, gradient, retain_graph, create_graph, inputs\u001b[39m=\u001b[39;49minputs\n\u001b[0;32m    490\u001b[0m )\n",
      "File \u001b[1;32mc:\\Users\\Sam\\miniconda3\\envs\\torch\\lib\\site-packages\\torch\\autograd\\__init__.py:197\u001b[0m, in \u001b[0;36mbackward\u001b[1;34m(tensors, grad_tensors, retain_graph, create_graph, grad_variables, inputs)\u001b[0m\n\u001b[0;32m    192\u001b[0m     retain_graph \u001b[39m=\u001b[39m create_graph\n\u001b[0;32m    194\u001b[0m \u001b[39m# The reason we repeat same the comment below is that\u001b[39;00m\n\u001b[0;32m    195\u001b[0m \u001b[39m# some Python versions print out the first line of a multi-line function\u001b[39;00m\n\u001b[0;32m    196\u001b[0m \u001b[39m# calls in the traceback and some print out the last line\u001b[39;00m\n\u001b[1;32m--> 197\u001b[0m Variable\u001b[39m.\u001b[39;49m_execution_engine\u001b[39m.\u001b[39;49mrun_backward(  \u001b[39m# Calls into the C++ engine to run the backward pass\u001b[39;49;00m\n\u001b[0;32m    198\u001b[0m     tensors, grad_tensors_, retain_graph, create_graph, inputs,\n\u001b[0;32m    199\u001b[0m     allow_unreachable\u001b[39m=\u001b[39;49m\u001b[39mTrue\u001b[39;49;00m, accumulate_grad\u001b[39m=\u001b[39;49m\u001b[39mTrue\u001b[39;49;00m)\n",
      "\u001b[1;31mKeyboardInterrupt\u001b[0m: "
     ]
    }
   ],
   "source": [
    "embeddings=embeddings.to(device)\n",
    "\n",
    "for levels in LEVELS:\n",
    "    for channels in CHANNELS:\n",
    "        \n",
    "        print(levels,channels)\n",
    "        \n",
    "        # create the approximation structure\n",
    "        apx=ApproxEmbed(levels = levels, \n",
    "                feature_dim = channels,\n",
    "                num_words = n_embeddings,\n",
    "                output_dims = embeddings_size,\n",
    "                feature_std = 0.1,\n",
    "                feature_bias = 0.0,\n",
    "                codebook_bitwidth=bits,\n",
    "                neurons = neurons,\n",
    "                nn_levels=nn_levels)\n",
    "        apx.to(device)\n",
    "\n",
    "        run = train_apx(apx, embeddings, epochs, batch_size, checkpoint_every, save_path)"
   ]
  },
  {
   "cell_type": "code",
   "execution_count": 8,
   "id": "512497d6",
   "metadata": {},
   "outputs": [],
   "source": [
    "runs = load_runs(save_path)"
   ]
  },
  {
   "cell_type": "code",
   "execution_count": 9,
   "id": "fe9571de",
   "metadata": {
    "execution": {
     "iopub.execute_input": "2023-01-24T22:17:19.005961Z",
     "iopub.status.busy": "2023-01-24T22:17:19.005600Z",
     "iopub.status.idle": "2023-01-24T22:17:19.546652Z",
     "shell.execute_reply": "2023-01-24T22:17:19.545703Z",
     "shell.execute_reply.started": "2023-01-24T22:17:19.005927Z"
    },
    "papermill": {
     "duration": null,
     "end_time": null,
     "exception": null,
     "start_time": null,
     "status": "pending"
    },
    "tags": []
   },
   "outputs": [
    {
     "data": {
      "image/png": "[encoded data removed]",
      "text/plain": [
       "<Figure size 640x480 with 1 Axes>"
      ]
     },
     "metadata": {},
     "output_type": "display_data"
    }
   ],
   "source": [
    "color = plt.cm.viridis(1-np.linspace(0, 1, len(LEVELS)))\n",
    "for run in runs:\n",
    "    plt.plot(np.arange(len(run['loss']))+1,run['loss'],color=color[np.where(np.array(LEVELS)==run['level'])])\n",
    "    plt.yscale('log')\n",
    "    plt.xscale('log')"
   ]
  },
  {
   "cell_type": "code",
   "execution_count": 10,
   "id": "8ae75e22",
   "metadata": {},
   "outputs": [
    {
     "name": "stdout",
     "output_type": "stream",
     "text": [
      "4\n",
      "8\n"
     ]
    },
    {
     "data": {
      "image/png": "[encoded data removed]",
      "text/plain": [
       "<Figure size 1500x1000 with 1 Axes>"
      ]
     },
     "metadata": {},
     "output_type": "display_data"
    }
   ],
   "source": [
    "plot_compare_result_runs(runs,embeddings)"
   ]
  }
 ],
 "metadata": {
  "kernelspec": {
   "display_name": "torch",
   "language": "python",
   "name": "python3"
  },
  "language_info": {
   "codemirror_mode": {
    "name": "ipython",
    "version": 3
   },
   "file_extension": ".py",
   "mimetype": "text/x-python",
   "name": "python",
   "nbconvert_exporter": "python",
   "pygments_lexer": "ipython3",
   "version": "3.8.0"
  },
  "papermill": {
   "default_parameters": {},
   "duration": 13.696854,
   "end_time": "2023-01-25T11:00:56.247301",
   "environment_variables": {},
   "exception": true,
   "input_path": "__notebook__.ipynb",
   "output_path": "__notebook__.ipynb",
   "parameters": {},
   "start_time": "2023-01-25T11:00:42.550447",
   "version": "2.3.4"
  },
  "vscode": {
   "interpreter": {
    "hash": "506daaeaa79bc5d30715519e2bba71fd2fb898b1f12d903345e89400e3b4f753"
   }
  },
  "widgets": {
   "application/vnd.jupyter.widget-state+json": {
    "state": {
     "32b9812623b942fe9aec07c3c826f571": {
      "model_module": "@jupyter-widgets/controls",
      "model_module_version": "1.5.0",
      "model_name": "HBoxModel",
      "state": {
       "_dom_classes": [],
       "_model_module": "@jupyter-widgets/controls",
       "_model_module_version": "1.5.0",
       "_model_name": "HBoxModel",
       "_view_count": null,
       "_view_module": "@jupyter-widgets/controls",
       "_view_module_version": "1.5.0",
       "_view_name": "HBoxView",
       "box_style": "",
       "children": [
        "IPY_MODEL_8027ac753fd04ef4bce6d072b4c18d2c",
        "IPY_MODEL_e159912df1454ef88c1dc983ba8c0749",
        "IPY_MODEL_fed1a011d9bc4b0897c1c8163e94c523"
       ],
       "layout": "IPY_MODEL_eeff4175e5a04b658d4edda6d83eef82"
      }
     },
     "3fbc31dd14854068ba1973b208c08007": {
      "model_module": "@jupyter-widgets/controls",
      "model_module_version": "1.5.0",
      "model_name": "DescriptionStyleModel",
      "state": {
       "_model_module": "@jupyter-widgets/controls",
       "_model_module_version": "1.5.0",
       "_model_name": "DescriptionStyleModel",
       "_view_count": null,
       "_view_module": "@jupyter-widgets/base",
       "_view_module_version": "1.2.0",
       "_view_name": "StyleView",
       "description_width": ""
      }
     },
     "5c314f330a9d49da804c931c1e074eae": {
      "model_module": "@jupyter-widgets/controls",
      "model_module_version": "1.5.0",
      "model_name": "DescriptionStyleModel",
      "state": {
       "_model_module": "@jupyter-widgets/controls",
       "_model_module_version": "1.5.0",
       "_model_name": "DescriptionStyleModel",
       "_view_count": null,
       "_view_module": "@jupyter-widgets/base",
       "_view_module_version": "1.2.0",
       "_view_name": "StyleView",
       "description_width": ""
      }
     },
     "6adeb58c4b354df39de876f76d3d5b0e": {
      "model_module": "@jupyter-widgets/base",
      "model_module_version": "1.2.0",
      "model_name": "LayoutModel",
      "state": {
       "_model_module": "@jupyter-widgets/base",
       "_model_module_version": "1.2.0",
       "_model_name": "LayoutModel",
       "_view_count": null,
       "_view_module": "@jupyter-widgets/base",
       "_view_module_version": "1.2.0",
       "_view_name": "LayoutView",
       "align_content": null,
       "align_items": null,
       "align_self": null,
       "border": null,
       "bottom": null,
       "display": null,
       "flex": null,
       "flex_flow": null,
       "grid_area": null,
       "grid_auto_columns": null,
       "grid_auto_flow": null,
       "grid_auto_rows": null,
       "grid_column": null,
       "grid_gap": null,
       "grid_row": null,
       "grid_template_areas": null,
       "grid_template_columns": null,
       "grid_template_rows": null,
       "height": null,
       "justify_content": null,
       "justify_items": null,
       "left": null,
       "margin": null,
       "max_height": null,
       "max_width": null,
       "min_height": null,
       "min_width": null,
       "object_fit": null,
       "object_position": null,
       "order": null,
       "overflow": null,
       "overflow_x": null,
       "overflow_y": null,
       "padding": null,
       "right": null,
       "top": null,
       "visibility": null,
       "width": null
      }
     },
     "8027ac753fd04ef4bce6d072b4c18d2c": {
      "model_module": "@jupyter-widgets/controls",
      "model_module_version": "1.5.0",
      "model_name": "HTMLModel",
      "state": {
       "_dom_classes": [],
       "_model_module": "@jupyter-widgets/controls",
       "_model_module_version": "1.5.0",
       "_model_name": "HTMLModel",
       "_view_count": null,
       "_view_module": "@jupyter-widgets/controls",
       "_view_module_version": "1.5.0",
       "_view_name": "HTMLView",
       "description": "",
       "description_tooltip": null,
       "layout": "IPY_MODEL_f332437c0b914f1b8c5980a4d6595a3f",
       "placeholder": "​",
       "style": "IPY_MODEL_3fbc31dd14854068ba1973b208c08007",
       "value": "Downloading: 100%"
      }
     },
     "d5a6b533304d4c5698d8e71ac6925bf0": {
      "model_module": "@jupyter-widgets/base",
      "model_module_version": "1.2.0",
      "model_name": "LayoutModel",
      "state": {
       "_model_module": "@jupyter-widgets/base",
       "_model_module_version": "1.2.0",
       "_model_name": "LayoutModel",
       "_view_count": null,
       "_view_module": "@jupyter-widgets/base",
       "_view_module_version": "1.2.0",
       "_view_name": "LayoutView",
       "align_content": null,
       "align_items": null,
       "align_self": null,
       "border": null,
       "bottom": null,
       "display": null,
       "flex": null,
       "flex_flow": null,
       "grid_area": null,
       "grid_auto_columns": null,
       "grid_auto_flow": null,
       "grid_auto_rows": null,
       "grid_column": null,
       "grid_gap": null,
       "grid_row": null,
       "grid_template_areas": null,
       "grid_template_columns": null,
       "grid_template_rows": null,
       "height": null,
       "justify_content": null,
       "justify_items": null,
       "left": null,
       "margin": null,
       "max_height": null,
       "max_width": null,
       "min_height": null,
       "min_width": null,
       "object_fit": null,
       "object_position": null,
       "order": null,
       "overflow": null,
       "overflow_x": null,
       "overflow_y": null,
       "padding": null,
       "right": null,
       "top": null,
       "visibility": null,
       "width": null
      }
     },
     "e12e0251b58c42589596893a245ba8e6": {
      "model_module": "@jupyter-widgets/controls",
      "model_module_version": "1.5.0",
      "model_name": "ProgressStyleModel",
      "state": {
       "_model_module": "@jupyter-widgets/controls",
       "_model_module_version": "1.5.0",
       "_model_name": "ProgressStyleModel",
       "_view_count": null,
       "_view_module": "@jupyter-widgets/base",
       "_view_module_version": "1.2.0",
       "_view_name": "StyleView",
       "bar_color": null,
       "description_width": ""
      }
     },
     "e159912df1454ef88c1dc983ba8c0749": {
      "model_module": "@jupyter-widgets/controls",
      "model_module_version": "1.5.0",
      "model_name": "FloatProgressModel",
      "state": {
       "_dom_classes": [],
       "_model_module": "@jupyter-widgets/controls",
       "_model_module_version": "1.5.0",
       "_model_name": "FloatProgressModel",
       "_view_count": null,
       "_view_module": "@jupyter-widgets/controls",
       "_view_module_version": "1.5.0",
       "_view_name": "ProgressView",
       "bar_style": "success",
       "description": "",
       "description_tooltip": null,
       "layout": "IPY_MODEL_d5a6b533304d4c5698d8e71ac6925bf0",
       "max": 285,
       "min": 0,
       "orientation": "horizontal",
       "style": "IPY_MODEL_e12e0251b58c42589596893a245ba8e6",
       "value": 285
      }
     },
     "eeff4175e5a04b658d4edda6d83eef82": {
      "model_module": "@jupyter-widgets/base",
      "model_module_version": "1.2.0",
      "model_name": "LayoutModel",
      "state": {
       "_model_module": "@jupyter-widgets/base",
       "_model_module_version": "1.2.0",
       "_model_name": "LayoutModel",
       "_view_count": null,
       "_view_module": "@jupyter-widgets/base",
       "_view_module_version": "1.2.0",
       "_view_name": "LayoutView",
       "align_content": null,
       "align_items": null,
       "align_self": null,
       "border": null,
       "bottom": null,
       "display": null,
       "flex": null,
       "flex_flow": null,
       "grid_area": null,
       "grid_auto_columns": null,
       "grid_auto_flow": null,
       "grid_auto_rows": null,
       "grid_column": null,
       "grid_gap": null,
       "grid_row": null,
       "grid_template_areas": null,
       "grid_template_columns": null,
       "grid_template_rows": null,
       "height": null,
       "justify_content": null,
       "justify_items": null,
       "left": null,
       "margin": null,
       "max_height": null,
       "max_width": null,
       "min_height": null,
       "min_width": null,
       "object_fit": null,
       "object_position": null,
       "order": null,
       "overflow": null,
       "overflow_x": null,
       "overflow_y": null,
       "padding": null,
       "right": null,
       "top": null,
       "visibility": null,
       "width": null
      }
     },
     "f332437c0b914f1b8c5980a4d6595a3f": {
      "model_module": "@jupyter-widgets/base",
      "model_module_version": "1.2.0",
      "model_name": "LayoutModel",
      "state": {
       "_model_module": "@jupyter-widgets/base",
       "_model_module_version": "1.2.0",
       "_model_name": "LayoutModel",
       "_view_count": null,
       "_view_module": "@jupyter-widgets/base",
       "_view_module_version": "1.2.0",
       "_view_name": "LayoutView",
       "align_content": null,
       "align_items": null,
       "align_self": null,
       "border": null,
       "bottom": null,
       "display": null,
       "flex": null,
       "flex_flow": null,
       "grid_area": null,
       "grid_auto_columns": null,
       "grid_auto_flow": null,
       "grid_auto_rows": null,
       "grid_column": null,
       "grid_gap": null,
       "grid_row": null,
       "grid_template_areas": null,
       "grid_template_columns": null,
       "grid_template_rows": null,
       "height": null,
       "justify_content": null,
       "justify_items": null,
       "left": null,
       "margin": null,
       "max_height": null,
       "max_width": null,
       "min_height": null,
       "min_width": null,
       "object_fit": null,
       "object_position": null,
       "order": null,
       "overflow": null,
       "overflow_x": null,
       "overflow_y": null,
       "padding": null,
       "right": null,
       "top": null,
       "visibility": null,
       "width": null
      }
     },
     "fed1a011d9bc4b0897c1c8163e94c523": {
      "model_module": "@jupyter-widgets/controls",
      "model_module_version": "1.5.0",
      "model_name": "HTMLModel",
      "state": {
       "_dom_classes": [],
       "_model_module": "@jupyter-widgets/controls",
       "_model_module_version": "1.5.0",
       "_model_name": "HTMLModel",
       "_view_count": null,
       "_view_module": "@jupyter-widgets/controls",
       "_view_module_version": "1.5.0",
       "_view_name": "HTMLView",
       "description": "",
       "description_tooltip": null,
       "layout": "IPY_MODEL_6adeb58c4b354df39de876f76d3d5b0e",
       "placeholder": "​",
       "style": "IPY_MODEL_5c314f330a9d49da804c931c1e074eae",
       "value": " 285/285 [00:00&lt;00:00, 11.3kB/s]"
      }
     }
    },
    "version_major": 2,
    "version_minor": 0
   }
  }
 },
 "nbformat": 4,
 "nbformat_minor": 5
}
