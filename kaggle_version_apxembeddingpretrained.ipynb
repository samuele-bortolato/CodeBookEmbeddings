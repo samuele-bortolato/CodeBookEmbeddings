{
 "cells": [
  {
   "cell_type": "code",
   "execution_count": 1,
   "id": "b4a0d5d2",
   "metadata": {
    "execution": {
     "iopub.execute_input": "2023-02-25T14:37:36.740565Z",
     "iopub.status.busy": "2023-02-25T14:37:36.739830Z",
     "iopub.status.idle": "2023-02-25T14:37:36.754826Z",
     "shell.execute_reply": "2023-02-25T14:37:36.753575Z"
    },
    "papermill": {
     "duration": 0.025401,
     "end_time": "2023-02-25T14:37:36.757914",
     "exception": false,
     "start_time": "2023-02-25T14:37:36.732513",
     "status": "completed"
    },
    "tags": []
   },
   "outputs": [],
   "source": [
    "import sys\n",
    "sys.path.insert(1, \"../input/apxembeddings-utils/\")"
   ]
  },
  {
   "cell_type": "code",
   "execution_count": 2,
   "id": "4e7059e2",
   "metadata": {
    "execution": {
     "iopub.execute_input": "2023-02-25T14:37:36.768006Z",
     "iopub.status.busy": "2023-02-25T14:37:36.767560Z",
     "iopub.status.idle": "2023-02-25T14:37:39.593833Z",
     "shell.execute_reply": "2023-02-25T14:37:39.592448Z"
    },
    "papermill": {
     "duration": 2.834978,
     "end_time": "2023-02-25T14:37:39.597052",
     "exception": false,
     "start_time": "2023-02-25T14:37:36.762074",
     "status": "completed"
    },
    "tags": []
   },
   "outputs": [],
   "source": [
    "import torch\n",
    "import torch.nn as nn\n",
    "from transformers import AutoModel\n",
    "import numpy as np\n",
    "import matplotlib.pyplot as plt\n",
    "import time\n",
    "\n",
    "from apx import ApproxEmbed, train_apx, load_runs, plot_compare_result_runs, set_random_seed"
   ]
  },
  {
   "cell_type": "code",
   "execution_count": 3,
   "id": "71138574",
   "metadata": {
    "execution": {
     "iopub.execute_input": "2023-02-25T14:37:39.607474Z",
     "iopub.status.busy": "2023-02-25T14:37:39.606835Z",
     "iopub.status.idle": "2023-02-25T14:37:39.622707Z",
     "shell.execute_reply": "2023-02-25T14:37:39.621404Z"
    },
    "papermill": {
     "duration": 0.024614,
     "end_time": "2023-02-25T14:37:39.625778",
     "exception": false,
     "start_time": "2023-02-25T14:37:39.601164",
     "status": "completed"
    },
    "tags": []
   },
   "outputs": [
    {
     "data": {
      "text/plain": [
       "'1.11.0'"
      ]
     },
     "execution_count": 3,
     "metadata": {},
     "output_type": "execute_result"
    }
   ],
   "source": [
    "torch.__version__"
   ]
  },
  {
   "cell_type": "code",
   "execution_count": 4,
   "id": "ae2fde2b",
   "metadata": {
    "execution": {
     "iopub.execute_input": "2023-02-25T14:37:39.637125Z",
     "iopub.status.busy": "2023-02-25T14:37:39.635848Z",
     "iopub.status.idle": "2023-02-25T14:37:50.732756Z",
     "shell.execute_reply": "2023-02-25T14:37:50.730924Z"
    },
    "papermill": {
     "duration": 11.107621,
     "end_time": "2023-02-25T14:37:50.737508",
     "exception": false,
     "start_time": "2023-02-25T14:37:39.629887",
     "status": "completed"
    },
    "tags": []
   },
   "outputs": [
    {
     "data": {
      "application/vnd.jupyter.widget-view+json": {
       "model_id": "bc1e6a2d729e4a2a85e18116f79da804",
       "version_major": 2,
       "version_minor": 0
      },
      "text/plain": [
       "Downloading:   0%|          | 0.00/285 [00:00<?, ?B/s]"
      ]
     },
     "metadata": {},
     "output_type": "display_data"
    },
    {
     "data": {
      "application/vnd.jupyter.widget-view+json": {
       "model_id": "3e9322b15d894090a51c29a4d029a5f5",
       "version_major": 2,
       "version_minor": 0
      },
      "text/plain": [
       "Downloading:   0%|          | 0.00/16.9M [00:00<?, ?B/s]"
      ]
     },
     "metadata": {},
     "output_type": "display_data"
    },
    {
     "name": "stderr",
     "output_type": "stream",
     "text": [
      "Some weights of the model checkpoint at prajjwal1/bert-tiny were not used when initializing BertModel: ['cls.predictions.transform.LayerNorm.weight', 'cls.predictions.transform.dense.weight', 'cls.seq_relationship.weight', 'cls.predictions.transform.LayerNorm.bias', 'cls.predictions.decoder.bias', 'cls.predictions.bias', 'cls.predictions.decoder.weight', 'cls.predictions.transform.dense.bias', 'cls.seq_relationship.bias']\n",
      "- This IS expected if you are initializing BertModel from the checkpoint of a model trained on another task or with another architecture (e.g. initializing a BertForSequenceClassification model from a BertForPreTraining model).\n",
      "- This IS NOT expected if you are initializing BertModel from the checkpoint of a model that you expect to be exactly identical (initializing a BertForSequenceClassification model from a BertForSequenceClassification model).\n"
     ]
    },
    {
     "data": {
      "text/plain": [
       "torch.Size([30522, 128])"
      ]
     },
     "execution_count": 4,
     "metadata": {},
     "output_type": "execute_result"
    }
   ],
   "source": [
    "model = AutoModel.from_pretrained('prajjwal1/bert-tiny')\n",
    "embeddings=model.embeddings.word_embeddings.weight\n",
    "embeddings.shape"
   ]
  },
  {
   "cell_type": "code",
   "execution_count": 5,
   "id": "9bdd877f",
   "metadata": {
    "execution": {
     "iopub.execute_input": "2023-02-25T14:37:50.752096Z",
     "iopub.status.busy": "2023-02-25T14:37:50.750770Z",
     "iopub.status.idle": "2023-02-25T14:37:50.765693Z",
     "shell.execute_reply": "2023-02-25T14:37:50.763769Z"
    },
    "papermill": {
     "duration": 0.026559,
     "end_time": "2023-02-25T14:37:50.769699",
     "exception": false,
     "start_time": "2023-02-25T14:37:50.743140",
     "status": "completed"
    },
    "tags": []
   },
   "outputs": [],
   "source": [
    "set_random_seed(42)"
   ]
  },
  {
   "cell_type": "code",
   "execution_count": 6,
   "id": "7206714c",
   "metadata": {
    "execution": {
     "iopub.execute_input": "2023-02-25T14:37:50.783500Z",
     "iopub.status.busy": "2023-02-25T14:37:50.782141Z",
     "iopub.status.idle": "2023-02-25T14:37:50.791657Z",
     "shell.execute_reply": "2023-02-25T14:37:50.790397Z"
    },
    "papermill": {
     "duration": 0.019898,
     "end_time": "2023-02-25T14:37:50.794866",
     "exception": false,
     "start_time": "2023-02-25T14:37:50.774968",
     "status": "completed"
    },
    "tags": []
   },
   "outputs": [],
   "source": [
    "LEVELS=[2,4,8,16,32]\n",
    "CHANNELS=[2,4,8,16,32]\n",
    "bits=8\n",
    "device='cuda'\n",
    "epochs=5000\n",
    "batch_size=2**14\n",
    "neurons=128\n",
    "nn_levels=1\n",
    "n_embeddings=embeddings.shape[0]\n",
    "embeddings_size=embeddings.shape[1]\n",
    "checkpoint_every=100\n",
    "\n",
    "save_path='results/compression_pretrained/'\n",
    "\n",
    "import os\n",
    "if not os.path.exists(save_path):\n",
    "    os.makedirs(save_path)"
   ]
  },
  {
   "cell_type": "code",
   "execution_count": 7,
   "id": "10311535",
   "metadata": {
    "execution": {
     "iopub.execute_input": "2023-02-25T14:37:50.806309Z",
     "iopub.status.busy": "2023-02-25T14:37:50.805878Z",
     "iopub.status.idle": "2023-02-25T17:17:59.348600Z",
     "shell.execute_reply": "2023-02-25T17:17:59.347133Z"
    },
    "papermill": {
     "duration": 9608.553093,
     "end_time": "2023-02-25T17:17:59.352648",
     "exception": false,
     "start_time": "2023-02-25T14:37:50.799555",
     "status": "completed"
    },
    "tags": []
   },
   "outputs": [
    {
     "name": "stdout",
     "output_type": "stream",
     "text": [
      "2 2\n",
      "2 4\n",
      "2 8\n",
      "2 16\n",
      "2 32\n",
      "4 2\n",
      "4 4\n",
      "4 8\n",
      "4 16\n",
      "4 32\n",
      "8 2\n",
      "8 4\n",
      "8 8\n",
      "8 16\n",
      "8 32\n",
      "16 2\n",
      "16 4\n",
      "16 8\n",
      "16 16\n",
      "16 32\n",
      "32 2\n",
      "32 4\n",
      "32 8\n",
      "32 16\n",
      "32 32\n"
     ]
    }
   ],
   "source": [
    "embeddings=embeddings.to(device)\n",
    "\n",
    "for levels in LEVELS:\n",
    "    for channels in CHANNELS:\n",
    "        \n",
    "        print(levels,channels)\n",
    "        \n",
    "        # create the approximation structure\n",
    "        apx=ApproxEmbed(levels = levels, \n",
    "                feature_dim = channels,\n",
    "                num_words = n_embeddings,\n",
    "                output_dims = embeddings_size,\n",
    "                feature_std = 0.1,\n",
    "                feature_bias = 0.0,\n",
    "                codebook_bitwidth=bits,\n",
    "                neurons = neurons,\n",
    "                nn_levels=nn_levels)\n",
    "        apx.to(device)\n",
    "\n",
    "        run = train_apx(apx=apx, \n",
    "                        embeddings=embeddings, \n",
    "                        epochs=epochs, \n",
    "                        batch_size=batch_size, \n",
    "                        checkpoint_every=checkpoint_every, \n",
    "                        save_path=save_path)"
   ]
  },
  {
   "cell_type": "code",
   "execution_count": 8,
   "id": "aee7673c",
   "metadata": {
    "execution": {
     "iopub.execute_input": "2023-02-25T17:17:59.373507Z",
     "iopub.status.busy": "2023-02-25T17:17:59.372944Z",
     "iopub.status.idle": "2023-02-25T17:19:09.786615Z",
     "shell.execute_reply": "2023-02-25T17:19:09.785356Z"
    },
    "papermill": {
     "duration": 70.427753,
     "end_time": "2023-02-25T17:19:09.790199",
     "exception": false,
     "start_time": "2023-02-25T17:17:59.362446",
     "status": "completed"
    },
    "tags": []
   },
   "outputs": [],
   "source": [
    "runs = load_runs(save_path)"
   ]
  },
  {
   "cell_type": "code",
   "execution_count": 9,
   "id": "96c36b20",
   "metadata": {
    "execution": {
     "iopub.execute_input": "2023-02-25T17:19:09.805280Z",
     "iopub.status.busy": "2023-02-25T17:19:09.804864Z",
     "iopub.status.idle": "2023-02-25T17:19:14.307974Z",
     "shell.execute_reply": "2023-02-25T17:19:14.306678Z"
    },
    "papermill": {
     "duration": 4.514727,
     "end_time": "2023-02-25T17:19:14.311495",
     "exception": false,
     "start_time": "2023-02-25T17:19:09.796768",
     "status": "completed"
    },
    "tags": []
   },
   "outputs": [],
   "source": [
    "for run in runs:\n",
    "    run['apx'].fix_indices()"
   ]
  },
  {
   "cell_type": "code",
   "execution_count": 10,
   "id": "34283c06",
   "metadata": {
    "execution": {
     "iopub.execute_input": "2023-02-25T17:19:14.327255Z",
     "iopub.status.busy": "2023-02-25T17:19:14.326817Z",
     "iopub.status.idle": "2023-02-25T17:19:15.440706Z",
     "shell.execute_reply": "2023-02-25T17:19:15.439201Z"
    },
    "papermill": {
     "duration": 1.125541,
     "end_time": "2023-02-25T17:19:15.443746",
     "exception": false,
     "start_time": "2023-02-25T17:19:14.318205",
     "status": "completed"
    },
    "tags": []
   },
   "outputs": [
    {
     "data": {
      "image/png": "[encoded data removed]",
      "text/plain": [
       "<Figure size 432x288 with 1 Axes>"
      ]
     },
     "metadata": {
      "needs_background": "light"
     },
     "output_type": "display_data"
    }
   ],
   "source": [
    "color = plt.cm.viridis(1-np.linspace(0, 1, len(LEVELS)))\n",
    "for run in runs:\n",
    "    plt.plot(np.arange(len(run['loss']))+1,run['loss'],color=color[np.where(np.array(LEVELS)==run['level'])])\n",
    "    plt.yscale('log')\n",
    "    plt.xscale('log')"
   ]
  },
  {
   "cell_type": "code",
   "execution_count": 11,
   "id": "f772d2f3",
   "metadata": {
    "execution": {
     "iopub.execute_input": "2023-02-25T17:19:15.459744Z",
     "iopub.status.busy": "2023-02-25T17:19:15.458560Z",
     "iopub.status.idle": "2023-02-25T17:19:18.711414Z",
     "shell.execute_reply": "2023-02-25T17:19:18.710053Z"
    },
    "papermill": {
     "duration": 3.263851,
     "end_time": "2023-02-25T17:19:18.714261",
     "exception": false,
     "start_time": "2023-02-25T17:19:15.450410",
     "status": "completed"
    },
    "tags": []
   },
   "outputs": [
    {
     "name": "stdout",
     "output_type": "stream",
     "text": [
      "2\n",
      "4\n",
      "8\n",
      "16\n",
      "32\n"
     ]
    },
    {
     "data": {
      "image/png": "[encoded data removed]",
      "text/plain": [
       "<Figure size 504x360 with 1 Axes>"
      ]
     },
     "metadata": {
      "needs_background": "light"
     },
     "output_type": "display_data"
    }
   ],
   "source": [
    "plot_compare_result_runs(runs,embeddings)"
   ]
  }
 ],
 "metadata": {
  "kernelspec": {
   "display_name": "Python 3",
   "language": "python",
   "name": "python3"
  },
  "language_info": {
   "codemirror_mode": {
    "name": "ipython",
    "version": 3
   },
   "file_extension": ".py",
   "mimetype": "text/x-python",
   "name": "python",
   "nbconvert_exporter": "python",
   "pygments_lexer": "ipython3",
   "version": "3.7.12"
  },
  "papermill": {
   "default_parameters": {},
   "duration": 9717.04533,
   "end_time": "2023-02-25T17:19:20.570541",
   "environment_variables": {},
   "exception": null,
   "input_path": "__notebook__.ipynb",
   "output_path": "__notebook__.ipynb",
   "parameters": {},
   "start_time": "2023-02-25T14:37:23.525211",
   "version": "2.3.4"
  },
  "widgets": {
   "application/vnd.jupyter.widget-state+json": {
    "state": {
     "09e378fcf284479e9f6f743221715517": {
      "model_module": "@jupyter-widgets/controls",
      "model_module_version": "1.5.0",
      "model_name": "DescriptionStyleModel",
      "state": {
       "_model_module": "@jupyter-widgets/controls",
       "_model_module_version": "1.5.0",
       "_model_name": "DescriptionStyleModel",
       "_view_count": null,
       "_view_module": "@jupyter-widgets/base",
       "_view_module_version": "1.2.0",
       "_view_name": "StyleView",
       "description_width": ""
      }
     },
     "09f99cb9e68747aa9d9c95391d2a9620": {
      "model_module": "@jupyter-widgets/base",
      "model_module_version": "1.2.0",
      "model_name": "LayoutModel",
      "state": {
       "_model_module": "@jupyter-widgets/base",
       "_model_module_version": "1.2.0",
       "_model_name": "LayoutModel",
       "_view_count": null,
       "_view_module": "@jupyter-widgets/base",
       "_view_module_version": "1.2.0",
       "_view_name": "LayoutView",
       "align_content": null,
       "align_items": null,
       "align_self": null,
       "border": null,
       "bottom": null,
       "display": null,
       "flex": null,
       "flex_flow": null,
       "grid_area": null,
       "grid_auto_columns": null,
       "grid_auto_flow": null,
       "grid_auto_rows": null,
       "grid_column": null,
       "grid_gap": null,
       "grid_row": null,
       "grid_template_areas": null,
       "grid_template_columns": null,
       "grid_template_rows": null,
       "height": null,
       "justify_content": null,
       "justify_items": null,
       "left": null,
       "margin": null,
       "max_height": null,
       "max_width": null,
       "min_height": null,
       "min_width": null,
       "object_fit": null,
       "object_position": null,
       "order": null,
       "overflow": null,
       "overflow_x": null,
       "overflow_y": null,
       "padding": null,
       "right": null,
       "top": null,
       "visibility": null,
       "width": null
      }
     },
     "0c03e1f86da5402d9fd35cada6ed8948": {
      "model_module": "@jupyter-widgets/base",
      "model_module_version": "1.2.0",
      "model_name": "LayoutModel",
      "state": {
       "_model_module": "@jupyter-widgets/base",
       "_model_module_version": "1.2.0",
       "_model_name": "LayoutModel",
       "_view_count": null,
       "_view_module": "@jupyter-widgets/base",
       "_view_module_version": "1.2.0",
       "_view_name": "LayoutView",
       "align_content": null,
       "align_items": null,
       "align_self": null,
       "border": null,
       "bottom": null,
       "display": null,
       "flex": null,
       "flex_flow": null,
       "grid_area": null,
       "grid_auto_columns": null,
       "grid_auto_flow": null,
       "grid_auto_rows": null,
       "grid_column": null,
       "grid_gap": null,
       "grid_row": null,
       "grid_template_areas": null,
       "grid_template_columns": null,
       "grid_template_rows": null,
       "height": null,
       "justify_content": null,
       "justify_items": null,
       "left": null,
       "margin": null,
       "max_height": null,
       "max_width": null,
       "min_height": null,
       "min_width": null,
       "object_fit": null,
       "object_position": null,
       "order": null,
       "overflow": null,
       "overflow_x": null,
       "overflow_y": null,
       "padding": null,
       "right": null,
       "top": null,
       "visibility": null,
       "width": null
      }
     },
     "3dba35187d3a4263a47800f99f4f1a5c": {
      "model_module": "@jupyter-widgets/controls",
      "model_module_version": "1.5.0",
      "model_name": "FloatProgressModel",
      "state": {
       "_dom_classes": [],
       "_model_module": "@jupyter-widgets/controls",
       "_model_module_version": "1.5.0",
       "_model_name": "FloatProgressModel",
       "_view_count": null,
       "_view_module": "@jupyter-widgets/controls",
       "_view_module_version": "1.5.0",
       "_view_name": "ProgressView",
       "bar_style": "success",
       "description": "",
       "description_tooltip": null,
       "layout": "IPY_MODEL_d4ff4695a6c143db84cbdd2cc6c6b793",
       "max": 17756393.0,
       "min": 0.0,
       "orientation": "horizontal",
       "style": "IPY_MODEL_721513bb91b44d909c9bdec5fab6a842",
       "value": 17756393.0
      }
     },
     "3e9322b15d894090a51c29a4d029a5f5": {
      "model_module": "@jupyter-widgets/controls",
      "model_module_version": "1.5.0",
      "model_name": "HBoxModel",
      "state": {
       "_dom_classes": [],
       "_model_module": "@jupyter-widgets/controls",
       "_model_module_version": "1.5.0",
       "_model_name": "HBoxModel",
       "_view_count": null,
       "_view_module": "@jupyter-widgets/controls",
       "_view_module_version": "1.5.0",
       "_view_name": "HBoxView",
       "box_style": "",
       "children": [
        "IPY_MODEL_de940a8b691a4519b4abf752fba8e55e",
        "IPY_MODEL_3dba35187d3a4263a47800f99f4f1a5c",
        "IPY_MODEL_9f9239a5fad04264b35ec19e6db6e3f4"
       ],
       "layout": "IPY_MODEL_89e3faa7fc8b4c4fae968b081c69cbbb"
      }
     },
     "49222ad2c7914d42985953d34be89967": {
      "model_module": "@jupyter-widgets/base",
      "model_module_version": "1.2.0",
      "model_name": "LayoutModel",
      "state": {
       "_model_module": "@jupyter-widgets/base",
       "_model_module_version": "1.2.0",
       "_model_name": "LayoutModel",
       "_view_count": null,
       "_view_module": "@jupyter-widgets/base",
       "_view_module_version": "1.2.0",
       "_view_name": "LayoutView",
       "align_content": null,
       "align_items": null,
       "align_self": null,
       "border": null,
       "bottom": null,
       "display": null,
       "flex": null,
       "flex_flow": null,
       "grid_area": null,
       "grid_auto_columns": null,
       "grid_auto_flow": null,
       "grid_auto_rows": null,
       "grid_column": null,
       "grid_gap": null,
       "grid_row": null,
       "grid_template_areas": null,
       "grid_template_columns": null,
       "grid_template_rows": null,
       "height": null,
       "justify_content": null,
       "justify_items": null,
       "left": null,
       "margin": null,
       "max_height": null,
       "max_width": null,
       "min_height": null,
       "min_width": null,
       "object_fit": null,
       "object_position": null,
       "order": null,
       "overflow": null,
       "overflow_x": null,
       "overflow_y": null,
       "padding": null,
       "right": null,
       "top": null,
       "visibility": null,
       "width": null
      }
     },
     "538306faa33c4e3c82e3fa5104f3d9d4": {
      "model_module": "@jupyter-widgets/base",
      "model_module_version": "1.2.0",
      "model_name": "LayoutModel",
      "state": {
       "_model_module": "@jupyter-widgets/base",
       "_model_module_version": "1.2.0",
       "_model_name": "LayoutModel",
       "_view_count": null,
       "_view_module": "@jupyter-widgets/base",
       "_view_module_version": "1.2.0",
       "_view_name": "LayoutView",
       "align_content": null,
       "align_items": null,
       "align_self": null,
       "border": null,
       "bottom": null,
       "display": null,
       "flex": null,
       "flex_flow": null,
       "grid_area": null,
       "grid_auto_columns": null,
       "grid_auto_flow": null,
       "grid_auto_rows": null,
       "grid_column": null,
       "grid_gap": null,
       "grid_row": null,
       "grid_template_areas": null,
       "grid_template_columns": null,
       "grid_template_rows": null,
       "height": null,
       "justify_content": null,
       "justify_items": null,
       "left": null,
       "margin": null,
       "max_height": null,
       "max_width": null,
       "min_height": null,
       "min_width": null,
       "object_fit": null,
       "object_position": null,
       "order": null,
       "overflow": null,
       "overflow_x": null,
       "overflow_y": null,
       "padding": null,
       "right": null,
       "top": null,
       "visibility": null,
       "width": null
      }
     },
     "67d1dfa059fc47888b95942ba7677fcb": {
      "model_module": "@jupyter-widgets/controls",
      "model_module_version": "1.5.0",
      "model_name": "DescriptionStyleModel",
      "state": {
       "_model_module": "@jupyter-widgets/controls",
       "_model_module_version": "1.5.0",
       "_model_name": "DescriptionStyleModel",
       "_view_count": null,
       "_view_module": "@jupyter-widgets/base",
       "_view_module_version": "1.2.0",
       "_view_name": "StyleView",
       "description_width": ""
      }
     },
     "721513bb91b44d909c9bdec5fab6a842": {
      "model_module": "@jupyter-widgets/controls",
      "model_module_version": "1.5.0",
      "model_name": "ProgressStyleModel",
      "state": {
       "_model_module": "@jupyter-widgets/controls",
       "_model_module_version": "1.5.0",
       "_model_name": "ProgressStyleModel",
       "_view_count": null,
       "_view_module": "@jupyter-widgets/base",
       "_view_module_version": "1.2.0",
       "_view_name": "StyleView",
       "bar_color": null,
       "description_width": ""
      }
     },
     "825cf6aec46647969312e75da95e0a03": {
      "model_module": "@jupyter-widgets/controls",
      "model_module_version": "1.5.0",
      "model_name": "FloatProgressModel",
      "state": {
       "_dom_classes": [],
       "_model_module": "@jupyter-widgets/controls",
       "_model_module_version": "1.5.0",
       "_model_name": "FloatProgressModel",
       "_view_count": null,
       "_view_module": "@jupyter-widgets/controls",
       "_view_module_version": "1.5.0",
       "_view_name": "ProgressView",
       "bar_style": "success",
       "description": "",
       "description_tooltip": null,
       "layout": "IPY_MODEL_09f99cb9e68747aa9d9c95391d2a9620",
       "max": 285.0,
       "min": 0.0,
       "orientation": "horizontal",
       "style": "IPY_MODEL_eb301e9a390845a1b952c0bcabdf4e4d",
       "value": 285.0
      }
     },
     "89e3faa7fc8b4c4fae968b081c69cbbb": {
      "model_module": "@jupyter-widgets/base",
      "model_module_version": "1.2.0",
      "model_name": "LayoutModel",
      "state": {
       "_model_module": "@jupyter-widgets/base",
       "_model_module_version": "1.2.0",
       "_model_name": "LayoutModel",
       "_view_count": null,
       "_view_module": "@jupyter-widgets/base",
       "_view_module_version": "1.2.0",
       "_view_name": "LayoutView",
       "align_content": null,
       "align_items": null,
       "align_self": null,
       "border": null,
       "bottom": null,
       "display": null,
       "flex": null,
       "flex_flow": null,
       "grid_area": null,
       "grid_auto_columns": null,
       "grid_auto_flow": null,
       "grid_auto_rows": null,
       "grid_column": null,
       "grid_gap": null,
       "grid_row": null,
       "grid_template_areas": null,
       "grid_template_columns": null,
       "grid_template_rows": null,
       "height": null,
       "justify_content": null,
       "justify_items": null,
       "left": null,
       "margin": null,
       "max_height": null,
       "max_width": null,
       "min_height": null,
       "min_width": null,
       "object_fit": null,
       "object_position": null,
       "order": null,
       "overflow": null,
       "overflow_x": null,
       "overflow_y": null,
       "padding": null,
       "right": null,
       "top": null,
       "visibility": null,
       "width": null
      }
     },
     "8a52c0f6300944509f36f4b13a9a6902": {
      "model_module": "@jupyter-widgets/controls",
      "model_module_version": "1.5.0",
      "model_name": "DescriptionStyleModel",
      "state": {
       "_model_module": "@jupyter-widgets/controls",
       "_model_module_version": "1.5.0",
       "_model_name": "DescriptionStyleModel",
       "_view_count": null,
       "_view_module": "@jupyter-widgets/base",
       "_view_module_version": "1.2.0",
       "_view_name": "StyleView",
       "description_width": ""
      }
     },
     "8aa013c87e2848399313161b2d6ad64a": {
      "model_module": "@jupyter-widgets/base",
      "model_module_version": "1.2.0",
      "model_name": "LayoutModel",
      "state": {
       "_model_module": "@jupyter-widgets/base",
       "_model_module_version": "1.2.0",
       "_model_name": "LayoutModel",
       "_view_count": null,
       "_view_module": "@jupyter-widgets/base",
       "_view_module_version": "1.2.0",
       "_view_name": "LayoutView",
       "align_content": null,
       "align_items": null,
       "align_self": null,
       "border": null,
       "bottom": null,
       "display": null,
       "flex": null,
       "flex_flow": null,
       "grid_area": null,
       "grid_auto_columns": null,
       "grid_auto_flow": null,
       "grid_auto_rows": null,
       "grid_column": null,
       "grid_gap": null,
       "grid_row": null,
       "grid_template_areas": null,
       "grid_template_columns": null,
       "grid_template_rows": null,
       "height": null,
       "justify_content": null,
       "justify_items": null,
       "left": null,
       "margin": null,
       "max_height": null,
       "max_width": null,
       "min_height": null,
       "min_width": null,
       "object_fit": null,
       "object_position": null,
       "order": null,
       "overflow": null,
       "overflow_x": null,
       "overflow_y": null,
       "padding": null,
       "right": null,
       "top": null,
       "visibility": null,
       "width": null
      }
     },
     "8be0e3d2453d4d3287db38c57056aeaf": {
      "model_module": "@jupyter-widgets/base",
      "model_module_version": "1.2.0",
      "model_name": "LayoutModel",
      "state": {
       "_model_module": "@jupyter-widgets/base",
       "_model_module_version": "1.2.0",
       "_model_name": "LayoutModel",
       "_view_count": null,
       "_view_module": "@jupyter-widgets/base",
       "_view_module_version": "1.2.0",
       "_view_name": "LayoutView",
       "align_content": null,
       "align_items": null,
       "align_self": null,
       "border": null,
       "bottom": null,
       "display": null,
       "flex": null,
       "flex_flow": null,
       "grid_area": null,
       "grid_auto_columns": null,
       "grid_auto_flow": null,
       "grid_auto_rows": null,
       "grid_column": null,
       "grid_gap": null,
       "grid_row": null,
       "grid_template_areas": null,
       "grid_template_columns": null,
       "grid_template_rows": null,
       "height": null,
       "justify_content": null,
       "justify_items": null,
       "left": null,
       "margin": null,
       "max_height": null,
       "max_width": null,
       "min_height": null,
       "min_width": null,
       "object_fit": null,
       "object_position": null,
       "order": null,
       "overflow": null,
       "overflow_x": null,
       "overflow_y": null,
       "padding": null,
       "right": null,
       "top": null,
       "visibility": null,
       "width": null
      }
     },
     "8dcebe59ee524956977d20b04744f868": {
      "model_module": "@jupyter-widgets/controls",
      "model_module_version": "1.5.0",
      "model_name": "HTMLModel",
      "state": {
       "_dom_classes": [],
       "_model_module": "@jupyter-widgets/controls",
       "_model_module_version": "1.5.0",
       "_model_name": "HTMLModel",
       "_view_count": null,
       "_view_module": "@jupyter-widgets/controls",
       "_view_module_version": "1.5.0",
       "_view_name": "HTMLView",
       "description": "",
       "description_tooltip": null,
       "layout": "IPY_MODEL_8be0e3d2453d4d3287db38c57056aeaf",
       "placeholder": "​",
       "style": "IPY_MODEL_09e378fcf284479e9f6f743221715517",
       "value": " 285/285 [00:00&lt;00:00, 7.74kB/s]"
      }
     },
     "9f9239a5fad04264b35ec19e6db6e3f4": {
      "model_module": "@jupyter-widgets/controls",
      "model_module_version": "1.5.0",
      "model_name": "HTMLModel",
      "state": {
       "_dom_classes": [],
       "_model_module": "@jupyter-widgets/controls",
       "_model_module_version": "1.5.0",
       "_model_name": "HTMLModel",
       "_view_count": null,
       "_view_module": "@jupyter-widgets/controls",
       "_view_module_version": "1.5.0",
       "_view_name": "HTMLView",
       "description": "",
       "description_tooltip": null,
       "layout": "IPY_MODEL_8aa013c87e2848399313161b2d6ad64a",
       "placeholder": "​",
       "style": "IPY_MODEL_67d1dfa059fc47888b95942ba7677fcb",
       "value": " 16.9M/16.9M [00:05&lt;00:00, 5.88MB/s]"
      }
     },
     "bc1e6a2d729e4a2a85e18116f79da804": {
      "model_module": "@jupyter-widgets/controls",
      "model_module_version": "1.5.0",
      "model_name": "HBoxModel",
      "state": {
       "_dom_classes": [],
       "_model_module": "@jupyter-widgets/controls",
       "_model_module_version": "1.5.0",
       "_model_name": "HBoxModel",
       "_view_count": null,
       "_view_module": "@jupyter-widgets/controls",
       "_view_module_version": "1.5.0",
       "_view_name": "HBoxView",
       "box_style": "",
       "children": [
        "IPY_MODEL_db254aab406f430eac3c7d24637dba87",
        "IPY_MODEL_825cf6aec46647969312e75da95e0a03",
        "IPY_MODEL_8dcebe59ee524956977d20b04744f868"
       ],
       "layout": "IPY_MODEL_538306faa33c4e3c82e3fa5104f3d9d4"
      }
     },
     "d4ff4695a6c143db84cbdd2cc6c6b793": {
      "model_module": "@jupyter-widgets/base",
      "model_module_version": "1.2.0",
      "model_name": "LayoutModel",
      "state": {
       "_model_module": "@jupyter-widgets/base",
       "_model_module_version": "1.2.0",
       "_model_name": "LayoutModel",
       "_view_count": null,
       "_view_module": "@jupyter-widgets/base",
       "_view_module_version": "1.2.0",
       "_view_name": "LayoutView",
       "align_content": null,
       "align_items": null,
       "align_self": null,
       "border": null,
       "bottom": null,
       "display": null,
       "flex": null,
       "flex_flow": null,
       "grid_area": null,
       "grid_auto_columns": null,
       "grid_auto_flow": null,
       "grid_auto_rows": null,
       "grid_column": null,
       "grid_gap": null,
       "grid_row": null,
       "grid_template_areas": null,
       "grid_template_columns": null,
       "grid_template_rows": null,
       "height": null,
       "justify_content": null,
       "justify_items": null,
       "left": null,
       "margin": null,
       "max_height": null,
       "max_width": null,
       "min_height": null,
       "min_width": null,
       "object_fit": null,
       "object_position": null,
       "order": null,
       "overflow": null,
       "overflow_x": null,
       "overflow_y": null,
       "padding": null,
       "right": null,
       "top": null,
       "visibility": null,
       "width": null
      }
     },
     "db254aab406f430eac3c7d24637dba87": {
      "model_module": "@jupyter-widgets/controls",
      "model_module_version": "1.5.0",
      "model_name": "HTMLModel",
      "state": {
       "_dom_classes": [],
       "_model_module": "@jupyter-widgets/controls",
       "_model_module_version": "1.5.0",
       "_model_name": "HTMLModel",
       "_view_count": null,
       "_view_module": "@jupyter-widgets/controls",
       "_view_module_version": "1.5.0",
       "_view_name": "HTMLView",
       "description": "",
       "description_tooltip": null,
       "layout": "IPY_MODEL_49222ad2c7914d42985953d34be89967",
       "placeholder": "​",
       "style": "IPY_MODEL_8a52c0f6300944509f36f4b13a9a6902",
       "value": "Downloading: 100%"
      }
     },
     "de940a8b691a4519b4abf752fba8e55e": {
      "model_module": "@jupyter-widgets/controls",
      "model_module_version": "1.5.0",
      "model_name": "HTMLModel",
      "state": {
       "_dom_classes": [],
       "_model_module": "@jupyter-widgets/controls",
       "_model_module_version": "1.5.0",
       "_model_name": "HTMLModel",
       "_view_count": null,
       "_view_module": "@jupyter-widgets/controls",
       "_view_module_version": "1.5.0",
       "_view_name": "HTMLView",
       "description": "",
       "description_tooltip": null,
       "layout": "IPY_MODEL_0c03e1f86da5402d9fd35cada6ed8948",
       "placeholder": "​",
       "style": "IPY_MODEL_f9a725e8d07c4d548ec2dd47c8d096d5",
       "value": "Downloading: 100%"
      }
     },
     "eb301e9a390845a1b952c0bcabdf4e4d": {
      "model_module": "@jupyter-widgets/controls",
      "model_module_version": "1.5.0",
      "model_name": "ProgressStyleModel",
      "state": {
       "_model_module": "@jupyter-widgets/controls",
       "_model_module_version": "1.5.0",
       "_model_name": "ProgressStyleModel",
       "_view_count": null,
       "_view_module": "@jupyter-widgets/base",
       "_view_module_version": "1.2.0",
       "_view_name": "StyleView",
       "bar_color": null,
       "description_width": ""
      }
     },
     "f9a725e8d07c4d548ec2dd47c8d096d5": {
      "model_module": "@jupyter-widgets/controls",
      "model_module_version": "1.5.0",
      "model_name": "DescriptionStyleModel",
      "state": {
       "_model_module": "@jupyter-widgets/controls",
       "_model_module_version": "1.5.0",
       "_model_name": "DescriptionStyleModel",
       "_view_count": null,
       "_view_module": "@jupyter-widgets/base",
       "_view_module_version": "1.2.0",
       "_view_name": "StyleView",
       "description_width": ""
      }
     }
    },
    "version_major": 2,
    "version_minor": 0
   }
  }
 },
 "nbformat": 4,
 "nbformat_minor": 5
}
