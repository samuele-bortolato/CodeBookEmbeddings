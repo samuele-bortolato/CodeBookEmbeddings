{
 "cells": [
  {
   "cell_type": "code",
   "execution_count": 30,
   "metadata": {},
   "outputs": [
    {
     "name": "stderr",
     "output_type": "stream",
     "text": [
      "c:\\Users\\Sam\\miniconda3\\envs\\torch\\lib\\site-packages\\tqdm\\auto.py:22: TqdmWarning: IProgress not found. Please update jupyter and ipywidgets. See https://ipywidgets.readthedocs.io/en/stable/user_install.html\n",
      "  from .autonotebook import tqdm as notebook_tqdm\n"
     ]
    }
   ],
   "source": [
    "import torch\n",
    "import torch.nn as nn\n",
    "from torch.cuda.amp import GradScaler\n",
    "from transformers import AutoModel\n",
    "\n",
    "import numpy as np\n",
    "\n",
    "import matplotlib.pyplot as plt\n",
    "\n",
    "import time"
   ]
  },
  {
   "cell_type": "code",
   "execution_count": 2,
   "metadata": {},
   "outputs": [
    {
     "data": {
      "text/plain": [
       "'2.0.0.dev20230123+cu117'"
      ]
     },
     "execution_count": 2,
     "metadata": {},
     "output_type": "execute_result"
    }
   ],
   "source": [
    "torch.__version__"
   ]
  },
  {
   "cell_type": "code",
   "execution_count": 31,
   "metadata": {},
   "outputs": [
    {
     "name": "stderr",
     "output_type": "stream",
     "text": [
      "Some weights of the model checkpoint at prajjwal1/bert-tiny were not used when initializing BertModel: ['cls.seq_relationship.weight', 'cls.predictions.transform.LayerNorm.bias', 'cls.predictions.transform.LayerNorm.weight', 'cls.predictions.decoder.weight', 'cls.predictions.transform.dense.weight', 'cls.predictions.decoder.bias', 'cls.predictions.transform.dense.bias', 'cls.seq_relationship.bias', 'cls.predictions.bias']\n",
      "- This IS expected if you are initializing BertModel from the checkpoint of a model trained on another task or with another architecture (e.g. initializing a BertForSequenceClassification model from a BertForPreTraining model).\n",
      "- This IS NOT expected if you are initializing BertModel from the checkpoint of a model that you expect to be exactly identical (initializing a BertForSequenceClassification model from a BertForSequenceClassification model).\n"
     ]
    },
    {
     "data": {
      "text/plain": [
       "torch.Size([30522, 128])"
      ]
     },
     "execution_count": 31,
     "metadata": {},
     "output_type": "execute_result"
    }
   ],
   "source": [
    "model = AutoModel.from_pretrained('prajjwal1/bert-tiny')\n",
    "embeddings=model.embeddings.word_embeddings.weight\n",
    "embeddings.shape"
   ]
  },
  {
   "cell_type": "code",
   "execution_count": 4,
   "metadata": {},
   "outputs": [],
   "source": [
    "class CodeBook(torch.nn.Module):\n",
    "\n",
    "    def __init__(self, \n",
    "        levels, \n",
    "        feature_dim,\n",
    "        num_words,\n",
    "        feature_std         : float        = 1.0,\n",
    "        feature_bias        : float        = 0.0,\n",
    "        codebook_bitwidth=8):\n",
    "\n",
    "        super().__init__()\n",
    "\n",
    "        self.levels=levels\n",
    "        self.feature_dim=feature_dim\n",
    "        self.num_words=num_words\n",
    "        self.feature_std=feature_std\n",
    "        self.feature_bias=feature_bias\n",
    "        self.bitwidth=codebook_bitwidth\n",
    "\n",
    "        self.dictionary_size = 2 ** self.bitwidth\n",
    "        self.dictionary = nn.ParameterList([])\n",
    "        for i in range(levels):\n",
    "            fts = torch.randn(self.dictionary_size, self.feature_dim) * self.feature_std + self.feature_bias\n",
    "            self.dictionary.append(nn.Parameter(fts))\n",
    "\n",
    "        self.feats=nn.Parameter(torch.randn(self.levels, self.num_words, self.dictionary_size))\n",
    "    \n",
    "    def forward(self, idx):\n",
    "        output=[]\n",
    "        for level in range(self.levels):\n",
    "            logits = self.feats[level,idx.long()]\n",
    "            y_soft = torch.softmax(logits, dim=-1)\n",
    "            index = y_soft.max(-1, keepdim=True)[1]\n",
    "            y_hard = torch.zeros_like(\n",
    "                logits, memory_format=torch.legacy_contiguous_format\n",
    "            ).scatter_(-1, index, 1.0)\n",
    "            keys = y_hard - y_soft.detach() + y_soft\n",
    "            out=(self.dictionary[level][None] * keys[..., None]).sum(-2)\n",
    "            output.append(out)\n",
    "        \n",
    "        return torch.concat(output,-1)\n",
    "\n",
    "class ApproxEmbed(torch.nn.Module):\n",
    "    def __init__(self, \n",
    "        levels, \n",
    "        feature_dim,\n",
    "        num_words,\n",
    "        output_dims,\n",
    "        feature_std         : float        = 1.0,\n",
    "        feature_bias        : float        = 0.0,\n",
    "        codebook_bitwidth=8,\n",
    "        neurons=64,\n",
    "        nn_levels=2):\n",
    "        \n",
    "        super().__init__()\n",
    "   \n",
    "        self.B=CodeBook(levels, \n",
    "                        feature_dim,\n",
    "                        num_words,\n",
    "                        feature_std= feature_std,\n",
    "                        feature_bias= feature_bias,\n",
    "                        codebook_bitwidth=8)\n",
    "        \n",
    "        self.N=torch.nn.Sequential()\n",
    "\n",
    "        prec_dim = feature_dim*levels\n",
    "        for i in range(nn_levels):\n",
    "            self.N.append(torch.nn.Linear(prec_dim, neurons))\n",
    "            self.N.append(torch.nn.LeakyReLU())\n",
    "            prec_dim = neurons\n",
    "        self.N.append(torch.nn.Linear(prec_dim, output_dims))\n",
    "\n",
    "    def forward(self, idx):\n",
    "        x = self.B(idx)\n",
    "        x = self.N(x)\n",
    "        return x\n"
   ]
  },
  {
   "cell_type": "code",
   "execution_count": 34,
   "metadata": {},
   "outputs": [],
   "source": [
    "levels=8\n",
    "channels=16\n",
    "bits=8\n",
    "device='cuda'\n",
    "epochs=10\n",
    "batch_size=2**13\n",
    "neurons=64\n",
    "nn_levels=2\n",
    "n_embeddings=embeddings.shape[0]\n",
    "embeddings_size=embeddings.shape[1]"
   ]
  },
  {
   "cell_type": "code",
   "execution_count": 6,
   "metadata": {},
   "outputs": [],
   "source": [
    "apx=ApproxEmbed(levels = levels, \n",
    "                feature_dim = channels,\n",
    "                num_words = n_embeddings,\n",
    "                output_dims = embeddings_size,\n",
    "                feature_std = 0.1,\n",
    "                feature_bias = 0.0,\n",
    "                codebook_bitwidth=bits,\n",
    "                neurons = neurons,\n",
    "                nn_levels=nn_levels)\n",
    "apx.to(device)\n",
    "embeddings=embeddings.to(device)\n",
    "\n",
    "optimizer=torch.optim.Adam(apx.parameters(),lr=0.01)\n",
    "h=[]"
   ]
  },
  {
   "cell_type": "code",
   "execution_count": 19,
   "metadata": {},
   "outputs": [
    {
     "name": "stdout",
     "output_type": "stream",
     "text": [
      "4999 0.0020802                                                                        0.5331194400787354\r"
     ]
    }
   ],
   "source": [
    "order=np.arange(embeddings.shape[0])\n",
    "for epoch in range(epochs):\n",
    "\n",
    "    t0=time.time()\n",
    "    tot_loss=0\n",
    "    np.random.shuffle(order)\n",
    "    for batch in range(int(np.ceil(len(order)/batch_size))):\n",
    "        \n",
    "        positions = torch.tensor(order[batch*batch_size:(batch+1)*batch_size],dtype=int,device=device)\n",
    "        embed_preds = apx(positions)\n",
    "        \n",
    "        embeds = embeddings[positions]\n",
    "        loss=torch.mean(torch.square(embed_preds-embeds))\n",
    "\n",
    "        loss.backward()\n",
    "        optimizer.step()\n",
    "        optimizer.zero_grad()\n",
    "\n",
    "        tot_loss+=loss.detach().cpu()\n",
    "        \n",
    "    average_loss=tot_loss.numpy()/int(np.ceil(len(order)/batch_size))\n",
    "    h.append(average_loss)\n",
    "    print(epoch, f'{average_loss:.5g}'.ljust(80), time.time()-t0, end='\\r')"
   ]
  },
  {
   "cell_type": "code",
   "execution_count": 20,
   "metadata": {},
   "outputs": [
    {
     "data": {
      "image/png": "[encoded data removed]",
      "text/plain": [
       "<Figure size 640x480 with 1 Axes>"
      ]
     },
     "metadata": {},
     "output_type": "display_data"
    }
   ],
   "source": [
    "plt.plot(np.arange(len(h))+1,np.array(h))\n",
    "plt.yscale('log')\n",
    "plt.xscale('log')"
   ]
  },
  {
   "cell_type": "code",
   "execution_count": 21,
   "metadata": {},
   "outputs": [],
   "source": [
    "class Indexing(torch.autograd.Function):\n",
    "\n",
    "    @staticmethod\n",
    "    @torch.cuda.amp.custom_fwd(cast_inputs=torch.half)\n",
    "    def forward(ctx, embeds, scores):\n",
    "        # embeds.shape                                              # (L, W, C)\n",
    "        s = scores.shape                                            # (L, B, W)\n",
    "        idx = scores.max(-1)[1].T                                   # (B, L)\n",
    "        idx = idx.reshape(-1)                                       # (B*L)\n",
    "        out = embeds[list((torch.arange(s[0]).repeat(s[1]), idx))]  # (B*L, C)\n",
    "        out = out.reshape(s[1],-1)                                  # (B, L*C)\n",
    "        ctx.save_for_backward(embeds, idx)\n",
    "        return out\n",
    "\n",
    "    @staticmethod\n",
    "    @torch.cuda.amp.custom_bwd\n",
    "    def backward(ctx, grad_output):\n",
    "        embeds, idx = ctx.saved_tensors\n",
    "        grad_output=grad_output.view(-1, embeds.shape[0], embeds.shape[2]) #(B,L,C)\n",
    "\n",
    "        grad_embeds = grad_scores = None\n",
    "\n",
    "        if ctx.needs_input_grad[0]:\n",
    "            grad_embeds = torch.zeros(embeds.shape[1],\n",
    "                                      embeds.shape[0],\n",
    "                                      embeds.shape[2],\n",
    "                                      device=grad_output.device, \n",
    "                                      dtype=grad_output.dtype)      # (W, L, C)\n",
    "            idx = idx.view(-1,embeds.shape[0],1)                    # (B, L, 1)\n",
    "            grad_embeds.scatter_add_(0,idx,grad_output)\n",
    "            grad_embeds=grad_embeds.permute(1,0,2)                  # (L, W, C)\n",
    "\n",
    "        if ctx.needs_input_grad[1]:\n",
    "            grad_scores = torch.bmm(grad_output.permute(1,0,2), embeds.permute(0,2,1))\n",
    "\n",
    "        return grad_embeds, grad_scores\n",
    "\n",
    "\n",
    "class CodeBook1(torch.nn.Module):\n",
    "\n",
    "    def __init__(self, \n",
    "        levels, \n",
    "        feature_dim,\n",
    "        num_words,\n",
    "        feature_std         : float        = 1.0,\n",
    "        feature_bias        : float        = 0.0,\n",
    "        codebook_bitwidth=8):\n",
    "\n",
    "        super().__init__()\n",
    "\n",
    "        self.levels=levels\n",
    "        self.feature_dim=feature_dim\n",
    "        self.num_words=num_words\n",
    "        self.feature_std=feature_std\n",
    "        self.feature_bias=feature_bias\n",
    "        self.bitwidth=codebook_bitwidth\n",
    "\n",
    "        self.dictionary_size = 2 ** self.bitwidth\n",
    "        self.dictionary = nn.Parameter(torch.randn(self.levels, self.dictionary_size, self.feature_dim) * self.feature_std + self.feature_bias)\n",
    "        self.feats=nn.Parameter(torch.randn(self.levels, self.num_words, self.dictionary_size))\n",
    "        self.indexing_func=Indexing.apply\n",
    "    \n",
    "    def forward(self, idx):\n",
    "        logits=self.feats[:,idx.long()]\n",
    "        return self.indexing_func(self.dictionary, logits)\n",
    "\n",
    "class ApproxEmbed1(torch.nn.Module):\n",
    "    def __init__(self, \n",
    "        levels, \n",
    "        feature_dim,\n",
    "        num_words,\n",
    "        output_dims,\n",
    "        feature_std         : float        = 1.0,\n",
    "        feature_bias        : float        = 0.0,\n",
    "        codebook_bitwidth=8,\n",
    "        neurons=64,\n",
    "        nn_levels=2):\n",
    "        \n",
    "        super().__init__()\n",
    "   \n",
    "        self.B=CodeBook1(levels, \n",
    "                        feature_dim,\n",
    "                        num_words,\n",
    "                        feature_std= feature_std,\n",
    "                        feature_bias= feature_bias,\n",
    "                        codebook_bitwidth=8)\n",
    "\n",
    "        # self.B=torch.compile(self.B,\n",
    "        #             mode='max-autotune',\n",
    "        #             fullgraph=True)\n",
    "        \n",
    "        self.N=torch.nn.Sequential()\n",
    "\n",
    "        prec_dim = feature_dim*levels\n",
    "        for i in range(nn_levels):\n",
    "            self.N.append(torch.nn.Linear(prec_dim, neurons))\n",
    "            self.N.append(torch.nn.LeakyReLU())\n",
    "            prec_dim = neurons\n",
    "        self.N.append(torch.nn.Linear(prec_dim, output_dims))\n",
    "\n",
    "    def forward(self, idx):\n",
    "        x = self.B(idx)\n",
    "        x = self.N(x)\n",
    "        return x\n",
    "\n",
    "apx=ApproxEmbed(8,4,100,16)\n",
    "idx=torch.tensor([3,69,3,6,1,2])\n",
    "o=apx(idx)\n",
    "loss=o.sum()\n",
    "loss.backward()"
   ]
  },
  {
   "cell_type": "code",
   "execution_count": 22,
   "metadata": {},
   "outputs": [],
   "source": [
    "apx=ApproxEmbed1(levels = levels, \n",
    "                feature_dim = channels,\n",
    "                num_words = n_embeddings,\n",
    "                output_dims = embeddings_size,\n",
    "                feature_std = 0.1,\n",
    "                feature_bias = 0.0,\n",
    "                codebook_bitwidth=bits,\n",
    "                neurons = neurons,\n",
    "                nn_levels=nn_levels)\n",
    "                \n",
    "# apx=torch.compile(  apx,\n",
    "#                     mode='max-autotune',\n",
    "#                     fullgraph=True)\n",
    "apx.to(device)\n",
    "embeddings=embeddings.to(device)\n",
    "\n",
    "optimizer=torch.optim.Adam(apx.parameters(),lr=0.02)\n",
    "h1=[]\n",
    "scaler=GradScaler()"
   ]
  },
  {
   "cell_type": "code",
   "execution_count": 23,
   "metadata": {},
   "outputs": [],
   "source": [
    "T=[]\n",
    "LR=[0.01]"
   ]
  },
  {
   "cell_type": "code",
   "execution_count": 24,
   "metadata": {},
   "outputs": [
    {
     "name": "stdout",
     "output_type": "stream",
     "text": [
      "8 16\n",
      "4999 0.0013911                                                                        0.11602640151977539\r"
     ]
    }
   ],
   "source": [
    "batch_size=2**14\n",
    "order=np.arange(embeddings.shape[0])\n",
    "H=[]\n",
    "print(levels,channels)\n",
    "for lr in LR:\n",
    "    apx=ApproxEmbed1(levels = levels, \n",
    "                feature_dim = channels,\n",
    "                num_words = n_embeddings,\n",
    "                output_dims = embeddings_size,\n",
    "                feature_std = 0.1,\n",
    "                feature_bias = 0.0,\n",
    "                codebook_bitwidth=bits,\n",
    "                neurons = neurons,\n",
    "                nn_levels=nn_levels)\n",
    "                \n",
    "    # apx=torch.compile(  apx,\n",
    "    #                     mode='max-autotune',\n",
    "    #                     fullgraph=True)\n",
    "    apx.to(device)\n",
    "    embeddings=embeddings.to(device)\n",
    "\n",
    "    optimizer=torch.optim.AdamW([\n",
    "                {'params': apx.N.parameters()},\n",
    "                {'params': apx.B.dictionary},\n",
    "                {'params': apx.B.feats,'weight_decay':1}\n",
    "            ], lr=lr, weight_decay=0)\n",
    "    h1=[]\n",
    "    scaler=GradScaler()\n",
    "    for epoch in range(5000):\n",
    "\n",
    "        t0=time.time()\n",
    "        tot_loss=0\n",
    "        np.random.shuffle(order)\n",
    "        for batch in range(int(np.ceil(len(order)/batch_size))):\n",
    "            t1=time.time()\n",
    "            #with torch.autocast(device_type='cuda', dtype=torch.float16):\n",
    "            t2=time.time()\n",
    "            positions = torch.tensor(order[batch*batch_size:(batch+1)*batch_size],dtype=int,device=device)\n",
    "            t3=time.time()\n",
    "            embed_preds = apx(positions)\n",
    "            t4=time.time()\n",
    "            embeds = embeddings[positions]\n",
    "            t5=time.time()\n",
    "            loss=torch.mean(torch.square(embed_preds-embeds))\n",
    "            t6=time.time()\n",
    "\n",
    "            # scaler.scale(loss).backward()\n",
    "            # scaler.step(optimizer)\n",
    "            # scaler.update()\n",
    "\n",
    "            loss.backward()\n",
    "            t7=time.time()\n",
    "            optimizer.step()\n",
    "            optimizer.zero_grad()\n",
    "            t8=time.time()\n",
    "\n",
    "            tot_loss+=loss.detach().cpu()\n",
    "            \n",
    "        average_loss=tot_loss.numpy()/int(np.ceil(len(order)/batch_size))\n",
    "        h1.append(average_loss)\n",
    "        print(epoch, f'{average_loss:.5g}'.ljust(80), time.time()-t0, end='\\r')\n",
    "    H.append(h1)"
   ]
  },
  {
   "cell_type": "code",
   "execution_count": 25,
   "metadata": {},
   "outputs": [],
   "source": [
    "T.append(H)"
   ]
  },
  {
   "cell_type": "code",
   "execution_count": 26,
   "metadata": {},
   "outputs": [
    {
     "data": {
      "text/plain": [
       "<matplotlib.legend.Legend at 0x1fadda2c0a0>"
      ]
     },
     "execution_count": 26,
     "metadata": {},
     "output_type": "execute_result"
    },
    {
     "data": {
      "image/png": "[encoded data removed]",
      "text/plain": [
       "<Figure size 640x480 with 1 Axes>"
      ]
     },
     "metadata": {},
     "output_type": "display_data"
    }
   ],
   "source": [
    "for h1 in H:\n",
    "    plt.plot(np.arange(len(h1))+1,np.array(h1))\n",
    "    plt.yscale('log')\n",
    "    plt.xscale('log')\n",
    "plt.legend(LR)"
   ]
  },
  {
   "cell_type": "code",
   "execution_count": 27,
   "metadata": {},
   "outputs": [
    {
     "data": {
      "image/png": "[encoded data removed]",
      "text/plain": [
       "<Figure size 640x480 with 1 Axes>"
      ]
     },
     "metadata": {},
     "output_type": "display_data"
    }
   ],
   "source": [
    "plt.plot(np.arange(len(h))+1,np.array(h),label='Softmax')\n",
    "plt.plot(np.arange(len(H[0]))+1,np.array(H[0]), label='Linear')\n",
    "plt.yscale('log')\n",
    "plt.xscale('log')"
   ]
  },
  {
   "cell_type": "code",
   "execution_count": 28,
   "metadata": {},
   "outputs": [
    {
     "name": "stdout",
     "output_type": "stream",
     "text": [
      "0.001381826470606029\n",
      "tensor(26.3220, device='cuda:0', grad_fn=<MulBackward0>)\n"
     ]
    }
   ],
   "source": [
    "print(min(h1))\n",
    "print(10*torch.log10(torch.max(embeddings)/min(h1)))"
   ]
  },
  {
   "cell_type": "code",
   "execution_count": 29,
   "metadata": {},
   "outputs": [],
   "source": [
    "def calc_size(x):\n",
    "   if isinstance(x,list) or isinstance(x,torch.nn.ParameterList):\n",
    "      tot=np.sum([calc_size(elem) for elem in x])\n",
    "   else:\n",
    "      if isinstance(x,torch.Tensor):\n",
    "         x=x.detach().cpu()\n",
    "      x=np.array(x)\n",
    "      tot=x.size * x.itemsize\n",
    "   return tot"
   ]
  },
  {
   "cell_type": "code",
   "execution_count": 30,
   "metadata": {},
   "outputs": [
    {
     "data": {
      "text/plain": [
       "458192"
      ]
     },
     "execution_count": 30,
     "metadata": {},
     "output_type": "execute_result"
    }
   ],
   "source": [
    "int(calc_size([apx.B.dictionary, list(apx.N.parameters())])+ levels*n_embeddings*bits/8)"
   ]
  },
  {
   "cell_type": "code",
   "execution_count": 31,
   "metadata": {},
   "outputs": [],
   "source": [
    "S,V,D=np.linalg.svd(embeddings.detach().cpu(),full_matrices=False)"
   ]
  },
  {
   "cell_type": "code",
   "execution_count": 32,
   "metadata": {},
   "outputs": [
    {
     "data": {
      "image/png": "[encoded data removed]",
      "text/plain": [
       "<Figure size 640x480 with 1 Axes>"
      ]
     },
     "metadata": {},
     "output_type": "display_data"
    }
   ],
   "source": [
    "plt.plot(V)\n",
    "plt.yscale('log')"
   ]
  },
  {
   "cell_type": "code",
   "execution_count": 33,
   "metadata": {},
   "outputs": [
    {
     "name": "stdout",
     "output_type": "stream",
     "text": [
      "0.0023211564403027296\n",
      "24.069483280181885\n"
     ]
    }
   ],
   "source": [
    "n=5\n",
    "print(torch.mean(torch.square(torch.tensor((S[:,:n]*V[:n])@D[:n],device=embeddings.device)-embeddings)).item())\n",
    "print(10*torch.log10(torch.max(embeddings)/torch.mean(torch.square(torch.tensor((S[:,:n]*V[:n])@D[:n],device=embeddings.device)-embeddings))).item())"
   ]
  },
  {
   "cell_type": "code",
   "execution_count": 34,
   "metadata": {},
   "outputs": [
    {
     "name": "stdout",
     "output_type": "stream",
     "text": [
      "apx 458192\n",
      "SVD 613020\n"
     ]
    }
   ],
   "source": [
    "print('apx',int(calc_size([apx.B.dictionary, list(apx.N.parameters())])+ levels*n_embeddings*bits/8))\n",
    "print('SVD',calc_size([S[:,:n],V[:n],D[:n]]))"
   ]
  },
  {
   "cell_type": "code",
   "execution_count": 35,
   "metadata": {},
   "outputs": [
    {
     "data": {
      "text/plain": [
       "458192.0"
      ]
     },
     "execution_count": 35,
     "metadata": {},
     "output_type": "execute_result"
    },
    {
     "ename": "",
     "evalue": "",
     "output_type": "error",
     "traceback": [
      "\u001b[1;31mThe Kernel crashed while executing code in the the current cell or a previous cell. Please review the code in the cell(s) to identify a possible cause of the failure. Click <a href='https://aka.ms/vscodeJupyterKernelCrash'>here</a> for more info. View Jupyter <a href='command:jupyter.viewOutput'>log</a> for further details."
     ]
    }
   ],
   "source": [
    "calc_size([apx.B.dictionary, list(apx.N.parameters())])+ levels*n_embeddings*bits/8"
   ]
  },
  {
   "cell_type": "code",
   "execution_count": null,
   "metadata": {},
   "outputs": [],
   "source": [
    "plt.plot(np.arange(len(h))+1,np.array(h),label='Softmax')\n",
    "plt.plot(np.arange(len(H[0]))+1,np.array(H[0]), label='Linear')\n",
    "plt.axhline(y = torch.mean(torch.square(torch.tensor((S[:,:n]*V[:n])@D[:n],device=embeddings.device)-embeddings)).item(),\n",
    "             color = 'r', linestyle = ':')\n",
    "plt.yscale('log')\n",
    "plt.xscale('log')"
   ]
  },
  {
   "cell_type": "code",
   "execution_count": 65,
   "metadata": {},
   "outputs": [],
   "source": [
    "class Indexing(torch.autograd.Function):\n",
    "\n",
    "    @staticmethod\n",
    "    @torch.cuda.amp.custom_fwd(cast_inputs=torch.half)\n",
    "    def forward(ctx, embeds, scores):\n",
    "        # embeds.shape                                              # (L, W, C)\n",
    "        s = scores.shape                                            # (L, B, W)\n",
    "        idx = scores.max(-1)[1].T                                   # (B, L)\n",
    "        idx = idx.reshape(-1)                                       # (B*L)\n",
    "        out = embeds[list((torch.arange(s[0]).repeat(s[1]), idx))]  # (B*L, C)\n",
    "        out = out.reshape(s[1],-1)                                  # (B, L*C)\n",
    "        ctx.save_for_backward(embeds, idx)\n",
    "        return out\n",
    "\n",
    "    @staticmethod\n",
    "    @torch.cuda.amp.custom_bwd\n",
    "    def backward(ctx, grad_output):\n",
    "        embeds, idx = ctx.saved_tensors\n",
    "        grad_output=grad_output.view(-1, embeds.shape[0], embeds.shape[2]) #(B,L,C)\n",
    "\n",
    "        grad_embeds = grad_scores = None\n",
    "\n",
    "        if ctx.needs_input_grad[0]:\n",
    "            grad_embeds = torch.zeros(embeds.shape[1],\n",
    "                                      embeds.shape[0],\n",
    "                                      embeds.shape[2],\n",
    "                                      device=grad_output.device, \n",
    "                                      dtype=grad_output.dtype)      # (W, L, C)\n",
    "            idx = idx.view(-1,embeds.shape[0],1)                    # (B, L, 1)\n",
    "            grad_embeds.scatter_add_(0,idx,grad_output)\n",
    "            grad_embeds=grad_embeds.permute(1,0,2)                  # (L, W, C)\n",
    "\n",
    "        if ctx.needs_input_grad[1]:\n",
    "            grad_scores = torch.bmm(grad_output.permute(1,0,2), embeds.permute(0,2,1))\n",
    "\n",
    "        return grad_embeds, grad_scores\n",
    "\n",
    "\n",
    "class CodeBook2(torch.nn.Module):\n",
    "\n",
    "    def __init__(self, \n",
    "        levels, \n",
    "        feature_dim,\n",
    "        num_words,\n",
    "        feature_std         : float        = 1.0,\n",
    "        feature_bias        : float        = 0.0,\n",
    "        codebook_bitwidth=8):\n",
    "\n",
    "        super().__init__()\n",
    "\n",
    "        self.levels=levels\n",
    "        self.feature_dim=feature_dim\n",
    "        self.num_words=num_words\n",
    "        self.feature_std=feature_std\n",
    "        self.feature_bias=feature_bias\n",
    "        self.bitwidth=codebook_bitwidth//2\n",
    "\n",
    "        self.dictionary_size = 2 ** self.bitwidth\n",
    "        self.dictionary = nn.Parameter(torch.randn(self.levels, self.dictionary_size**2, self.feature_dim) * self.feature_std + self.feature_bias)\n",
    "        self.feats0=nn.Parameter(torch.randn(self.levels, self.num_words, self.dictionary_size))\n",
    "        self.feats1=nn.Parameter(torch.randn(self.levels, self.num_words, self.dictionary_size))\n",
    "        self.indexing_func=Indexing.apply\n",
    "    \n",
    "    def forward(self, idx):\n",
    "        \n",
    "        f0=self.feats0[:,idx.long()][...,None]\n",
    "        f1=self.feats1[:,idx.long()][...,None,:]\n",
    "        S=f0.shape\n",
    "        logits=(f0*f1).reshape(S[0],S[1],-1)\n",
    "        hash_idx=torch.remainder(torch.broadcast_to(((torch.arange(self.levels,device=idx.device)+1)[:,None,None]*(idx+1)[None,:,None]*(torch.arange(self.dictionary_size**2,device=idx.device))[None,None,:]*4270565443),logits.shape),self.dictionary_size**2)\n",
    "        logits=torch.gather(logits,2,hash_idx)\n",
    "        print(hash_idx.shape)\n",
    "        return self.indexing_func(self.dictionary, logits)\n",
    "\n",
    "class ApproxEmbed2(torch.nn.Module):\n",
    "    def __init__(self, \n",
    "        levels, \n",
    "        feature_dim,\n",
    "        num_words,\n",
    "        output_dims,\n",
    "        feature_std         : float        = 1.0,\n",
    "        feature_bias        : float        = 0.0,\n",
    "        codebook_bitwidth=8,\n",
    "        neurons=64,\n",
    "        nn_levels=2):\n",
    "        \n",
    "        super().__init__()\n",
    "   \n",
    "        self.B=CodeBook2(levels, \n",
    "                        feature_dim,\n",
    "                        num_words,\n",
    "                        feature_std= feature_std,\n",
    "                        feature_bias= feature_bias,\n",
    "                        codebook_bitwidth=codebook_bitwidth)\n",
    "\n",
    "        # self.B=torch.compile(self.B,\n",
    "        #             mode='max-autotune',\n",
    "        #             fullgraph=True)\n",
    "        \n",
    "        self.N=torch.nn.Sequential()\n",
    "\n",
    "        prec_dim = feature_dim*levels\n",
    "        for i in range(nn_levels):\n",
    "            self.N.append(torch.nn.Linear(prec_dim, neurons))\n",
    "            self.N.append(torch.nn.LeakyReLU())\n",
    "            prec_dim = neurons\n",
    "        self.N.append(torch.nn.Linear(prec_dim, output_dims))\n",
    "\n",
    "    def forward(self, idx):\n",
    "        x = self.B(idx)\n",
    "        x = self.N(x)\n",
    "        return x"
   ]
  },
  {
   "cell_type": "code",
   "execution_count": 66,
   "metadata": {},
   "outputs": [],
   "source": [
    "levels=8\n",
    "channels=8\n",
    "bits=8\n",
    "neurons=128\n",
    "nn_levels=1\n",
    "\n",
    "apx=ApproxEmbed2(levels = levels, \n",
    "                feature_dim = channels,\n",
    "                num_words = n_embeddings,\n",
    "                output_dims = embeddings_size,\n",
    "                feature_std = 0.1,\n",
    "                feature_bias = 0.0,\n",
    "                codebook_bitwidth=bits,\n",
    "                neurons = neurons,\n",
    "                nn_levels=nn_levels)\n",
    "                \n",
    "# apx=torch.compile(  apx,\n",
    "#                     mode='max-autotune',\n",
    "#                     fullgraph=True)\n",
    "apx.to(device)\n",
    "embeddings=embeddings.to(device)\n",
    "\n",
    "optimizer=torch.optim.Adam(apx.parameters(),lr=0.02)\n",
    "h1=[]\n",
    "scaler=GradScaler()"
   ]
  },
  {
   "cell_type": "code",
   "execution_count": 67,
   "metadata": {},
   "outputs": [],
   "source": [
    "T=[]\n",
    "LR=[0.01]"
   ]
  },
  {
   "cell_type": "code",
   "execution_count": 68,
   "metadata": {},
   "outputs": [
    {
     "name": "stdout",
     "output_type": "stream",
     "text": [
      "8 8\n",
      "1223 0.0019546                                                                        0.07801842689514164\r"
     ]
    }
   ],
   "source": [
    "batch_size=2**14\n",
    "order=np.arange(embeddings.shape[0])\n",
    "H=[]\n",
    "print(levels,channels)\n",
    "for lr in LR:\n",
    "    apx=ApproxEmbed2(levels = levels, \n",
    "                feature_dim = channels,\n",
    "                num_words = n_embeddings,\n",
    "                output_dims = embeddings_size,\n",
    "                feature_std = 0.1,\n",
    "                feature_bias = 0.0,\n",
    "                codebook_bitwidth=bits,\n",
    "                neurons = neurons,\n",
    "                nn_levels=nn_levels)\n",
    "                \n",
    "    # apx=torch.compile(  apx,\n",
    "    #                     mode='max-autotune',\n",
    "    #                     fullgraph=True)\n",
    "    apx.to(device)\n",
    "    embeddings=embeddings.to(device)\n",
    "\n",
    "    optimizer=torch.optim.AdamW([\n",
    "                {'params': apx.N.parameters()},\n",
    "                {'params': apx.B.dictionary},\n",
    "                {'params': apx.B.feats0,'weight_decay':1},\n",
    "                {'params': apx.B.feats1,'weight_decay':1}\n",
    "            ], lr=lr, weight_decay=0)\n",
    "    h1=[]\n",
    "    scaler=GradScaler()\n",
    "    for epoch in range(5000):\n",
    "\n",
    "        t0=time.time()\n",
    "        tot_loss=0\n",
    "        np.random.shuffle(order)\n",
    "        for batch in range(int(np.ceil(len(order)/batch_size))):\n",
    "            t1=time.time()\n",
    "            #with torch.autocast(device_type='cuda', dtype=torch.float16):\n",
    "            t2=time.time()\n",
    "            positions = torch.tensor(order[batch*batch_size:(batch+1)*batch_size],dtype=int,device=device)\n",
    "            t3=time.time()\n",
    "            embed_preds = apx(positions)\n",
    "            t4=time.time()\n",
    "            embeds = embeddings[positions]\n",
    "            t5=time.time()\n",
    "            loss=torch.mean(torch.square(embed_preds-embeds))\n",
    "            t6=time.time()\n",
    "\n",
    "            # scaler.scale(loss).backward()\n",
    "            # scaler.step(optimizer)\n",
    "            # scaler.update()\n",
    "\n",
    "            loss.backward()\n",
    "            t7=time.time()\n",
    "            optimizer.step()\n",
    "            optimizer.zero_grad()\n",
    "            t8=time.time()\n",
    "\n",
    "            tot_loss+=loss.detach().cpu()\n",
    "            \n",
    "        average_loss=tot_loss.numpy()/int(np.ceil(len(order)/batch_size))\n",
    "        h1.append(average_loss)\n",
    "        print(epoch, f'{average_loss:.5g}'.ljust(80), time.time()-t0, end='\\r')\n",
    "    H.append(h1)"
   ]
  },
  {
   "cell_type": "code",
   "execution_count": null,
   "metadata": {},
   "outputs": [
    {
     "data": {
      "text/plain": [
       "<matplotlib.legend.Legend at 0x1e7b40371f0>"
      ]
     },
     "execution_count": 14,
     "metadata": {},
     "output_type": "execute_result"
    },
    {
     "data": {
      "image/png": "[encoded data removed]",
      "text/plain": [
       "<Figure size 640x480 with 1 Axes>"
      ]
     },
     "metadata": {},
     "output_type": "display_data"
    }
   ],
   "source": [
    "plt.plot(np.arange(len(h1))+1,np.array(h1))\n",
    "plt.yscale('log')\n",
    "plt.xscale('log')\n",
    "plt.legend(LR)"
   ]
  }
 ],
 "metadata": {
  "kernelspec": {
   "display_name": "torch",
   "language": "python",
   "name": "python3"
  },
  "language_info": {
   "codemirror_mode": {
    "name": "ipython",
    "version": 3
   },
   "file_extension": ".py",
   "mimetype": "text/x-python",
   "name": "python",
   "nbconvert_exporter": "python",
   "pygments_lexer": "ipython3",
   "version": "3.9.16"
  },
  "orig_nbformat": 4,
  "vscode": {
   "interpreter": {
    "hash": "506daaeaa79bc5d30715519e2bba71fd2fb898b1f12d903345e89400e3b4f753"
   }
  }
 },
 "nbformat": 4,
 "nbformat_minor": 2
}
